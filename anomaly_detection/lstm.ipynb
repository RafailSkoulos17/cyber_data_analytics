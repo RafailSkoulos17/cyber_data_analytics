{
 "cells": [
  {
   "cell_type": "markdown",
   "metadata": {},
   "source": [
    "# Bonus task - LSTM implementation"
   ]
  },
  {
   "cell_type": "code",
   "execution_count": 34,
   "metadata": {},
   "outputs": [
    {
     "name": "stdout",
     "output_type": "stream",
     "text": [
      "Requirement already satisfied: atomicwrites==1.3.0 in c:\\users\\rafai\\appdata\\roaming\\python\\python37\\site-packages (from -r requirements.txt (line 1)) (1.3.0)\n",
      "Requirement already satisfied: attrs==19.1.0 in c:\\users\\rafai\\appdata\\local\\programs\\python\\python37\\lib\\site-packages (from -r requirements.txt (line 2)) (19.1.0)\n",
      "Requirement already satisfied: certifi==2019.3.9 in c:\\users\\rafai\\appdata\\roaming\\python\\python37\\site-packages (from -r requirements.txt (line 3)) (2019.3.9)\n",
      "Requirement already satisfied: chardet==3.0.4 in c:\\users\\rafai\\appdata\\roaming\\python\\python37\\site-packages (from -r requirements.txt (line 4)) (3.0.4)\n",
      "Requirement already satisfied: codecov==2.0.15 in c:\\users\\rafai\\appdata\\roaming\\python\\python37\\site-packages (from -r requirements.txt (line 5)) (2.0.15)\n",
      "Requirement already satisfied: colorama==0.4.1 in c:\\users\\rafai\\appdata\\local\\programs\\python\\python37\\lib\\site-packages (from -r requirements.txt (line 6)) (0.4.1)\n",
      "Requirement already satisfied: coverage==4.5.3 in c:\\users\\rafai\\appdata\\roaming\\python\\python37\\site-packages (from -r requirements.txt (line 7)) (4.5.3)\n",
      "Requirement already satisfied: cycler==0.10.0 in c:\\users\\rafai\\appdata\\local\\programs\\python\\python37\\lib\\site-packages (from -r requirements.txt (line 8)) (0.10.0)\n",
      "Requirement already satisfied: idna==2.8 in c:\\users\\rafai\\appdata\\roaming\\python\\python37\\site-packages (from -r requirements.txt (line 9)) (2.8)\n",
      "Requirement already satisfied: importlib-metadata==0.17 in c:\\users\\rafai\\appdata\\roaming\\python\\python37\\site-packages (from -r requirements.txt (line 10)) (0.17)\n",
      "Requirement already satisfied: joblib==0.13.2 in c:\\users\\rafai\\appdata\\local\\programs\\python\\python37\\lib\\site-packages (from -r requirements.txt (line 11)) (0.13.2)\n",
      "Requirement already satisfied: kiwisolver==1.1.0 in c:\\users\\rafai\\appdata\\local\\programs\\python\\python37\\lib\\site-packages (from -r requirements.txt (line 12)) (1.1.0)\n",
      "Requirement already satisfied: matplotlib==3.1.0 in c:\\users\\rafai\\appdata\\local\\programs\\python\\python37\\lib\\site-packages (from -r requirements.txt (line 13)) (3.1.0)\n",
      "Requirement already satisfied: more-itertools==7.0.0 in c:\\users\\rafai\\appdata\\roaming\\python\\python37\\site-packages (from -r requirements.txt (line 14)) (7.0.0)\n",
      "Requirement already satisfied: nltk==3.4.1 in c:\\users\\rafai\\appdata\\roaming\\python\\python37\\site-packages (from -r requirements.txt (line 15)) (3.4.1)\n",
      "Requirement already satisfied: numpy==1.16.4 in c:\\users\\rafai\\appdata\\local\\programs\\python\\python37\\lib\\site-packages (from -r requirements.txt (line 16)) (1.16.4)\n",
      "Requirement already satisfied: packaging==19.0 in c:\\users\\rafai\\appdata\\roaming\\python\\python37\\site-packages (from -r requirements.txt (line 17)) (19.0)\n",
      "Requirement already satisfied: pandas==0.24.2 in c:\\users\\rafai\\appdata\\local\\programs\\python\\python37\\lib\\site-packages (from -r requirements.txt (line 18)) (0.24.2)\n",
      "Requirement already satisfied: patsy==0.5.1 in c:\\users\\rafai\\appdata\\local\\programs\\python\\python37\\lib\\site-packages (from -r requirements.txt (line 19)) (0.5.1)\n",
      "Requirement already satisfied: pluggy==0.12.0 in c:\\users\\rafai\\appdata\\roaming\\python\\python37\\site-packages (from -r requirements.txt (line 20)) (0.12.0)\n",
      "Requirement already satisfied: py==1.8.0 in c:\\users\\rafai\\appdata\\roaming\\python\\python37\\site-packages (from -r requirements.txt (line 21)) (1.8.0)\n",
      "Requirement already satisfied: pyparsing==2.4.0 in c:\\users\\rafai\\appdata\\local\\programs\\python\\python37\\lib\\site-packages (from -r requirements.txt (line 22)) (2.4.0)\n",
      "Requirement already satisfied: pytest==4.6.0 in c:\\users\\rafai\\appdata\\roaming\\python\\python37\\site-packages (from -r requirements.txt (line 23)) (4.6.0)\n",
      "Requirement already satisfied: pytest-cov==2.7.1 in c:\\users\\rafai\\appdata\\roaming\\python\\python37\\site-packages (from -r requirements.txt (line 24)) (2.7.1)\n",
      "Requirement already satisfied: python-dateutil==2.8.0 in c:\\users\\rafai\\appdata\\local\\programs\\python\\python37\\lib\\site-packages (from -r requirements.txt (line 25)) (2.8.0)\n",
      "Requirement already satisfied: pytz==2019.1 in c:\\users\\rafai\\appdata\\local\\programs\\python\\python37\\lib\\site-packages (from -r requirements.txt (line 26)) (2019.1)\n",
      "Requirement already satisfied: requests==2.22.0 in c:\\users\\rafai\\appdata\\roaming\\python\\python37\\site-packages (from -r requirements.txt (line 27)) (2.22.0)\n",
      "Requirement already satisfied: saxpy==1.0.1.dev167 in c:\\users\\rafai\\appdata\\roaming\\python\\python37\\site-packages (from -r requirements.txt (line 28)) (1.0.1.dev167)\n",
      "Requirement already satisfied: scikit-learn==0.21.2 in c:\\users\\rafai\\appdata\\local\\programs\\python\\python37\\lib\\site-packages (from -r requirements.txt (line 29)) (0.21.2)\n",
      "Requirement already satisfied: scipy==1.2.0 in c:\\users\\rafai\\appdata\\local\\programs\\python\\python37\\lib\\site-packages (from -r requirements.txt (line 30)) (1.2.0)\n",
      "Requirement already satisfied: seaborn==0.9.0 in c:\\users\\rafai\\appdata\\roaming\\python\\python37\\site-packages (from -r requirements.txt (line 31)) (0.9.0)\n",
      "Requirement already satisfied: six==1.12.0 in c:\\users\\rafai\\appdata\\local\\programs\\python\\python37\\lib\\site-packages (from -r requirements.txt (line 32)) (1.12.0)\n",
      "Requirement already satisfied: sklearn==0.0 in c:\\users\\rafai\\appdata\\local\\programs\\python\\python37\\lib\\site-packages (from -r requirements.txt (line 33)) (0.0)\n",
      "Requirement already satisfied: statsmodels==0.9.0 in c:\\users\\rafai\\appdata\\local\\programs\\python\\python37\\lib\\site-packages (from -r requirements.txt (line 34)) (0.9.0)\n",
      "Requirement already satisfied: urllib3==1.25.3 in c:\\users\\rafai\\appdata\\roaming\\python\\python37\\site-packages (from -r requirements.txt (line 35)) (1.25.3)\n",
      "Requirement already satisfied: wcwidth==0.1.7 in c:\\users\\rafai\\appdata\\local\\programs\\python\\python37\\lib\\site-packages (from -r requirements.txt (line 36)) (0.1.7)\n",
      "Requirement already satisfied: zipp==0.5.1 in c:\\users\\rafai\\appdata\\roaming\\python\\python37\\site-packages (from -r requirements.txt (line 37)) (0.5.1)\n",
      "Requirement already satisfied: setuptools in c:\\users\\rafai\\appdata\\local\\programs\\python\\python37\\lib\\site-packages (from kiwisolver==1.1.0->-r requirements.txt (line 12)) (40.8.0)\n",
      "Requirement already satisfied: torch==1.1.0 from https://download.pytorch.org/whl/cpu/torch-1.1.0-cp37-cp37m-win_amd64.whl in c:\\users\\rafai\\appdata\\local\\programs\\python\\python37\\lib\\site-packages (1.1.0)\n",
      "Requirement already satisfied: numpy in c:\\users\\rafai\\appdata\\local\\programs\\python\\python37\\lib\\site-packages (from torch==1.1.0) (1.16.4)\n",
      "Collecting torchvision==0.3.0 from https://download.pytorch.org/whl/cpu/torchvision-0.3.0-cp37-cp37m-win_amd64.whl\n",
      "  Downloading https://download.pytorch.org/whl/cpu/torchvision-0.3.0-cp37-cp37m-win_amd64.whl (232kB)\n",
      "Requirement already satisfied: numpy in c:\\users\\rafai\\appdata\\local\\programs\\python\\python37\\lib\\site-packages (from torchvision==0.3.0) (1.16.4)\n",
      "Collecting pillow>=4.1.1 (from torchvision==0.3.0)\n",
      "  Using cached https://files.pythonhosted.org/packages/40/f2/a424d4d5dd6aa8c26636969decbb3da1c01286d344e71429b1d648bccb64/Pillow-6.0.0-cp37-cp37m-win_amd64.whl\n",
      "Requirement already satisfied: torch>=1.1.0 in c:\\users\\rafai\\appdata\\local\\programs\\python\\python37\\lib\\site-packages (from torchvision==0.3.0) (1.1.0)\n",
      "Requirement already satisfied: six in c:\\users\\rafai\\appdata\\local\\programs\\python\\python37\\lib\\site-packages (from torchvision==0.3.0) (1.12.0)\n",
      "Installing collected packages: pillow, torchvision\n",
      "Successfully installed pillow-6.0.0 torchvision-0.3.0\n"
     ]
    }
   ],
   "source": [
    "import sys\n",
    "!{sys.executable} -m pip install --user -r requirements.txt\n",
    "!{sys.executable} -m pip install --user https://download.pytorch.org/whl/cpu/torch-1.1.0-cp37-cp37m-win_amd64.whl\n",
    "!{sys.executable} -m pip install --user https://download.pytorch.org/whl/cpu/torchvision-0.3.0-cp37-cp37m-win_amd64.whl"
   ]
  },
  {
   "cell_type": "code",
   "execution_count": 22,
   "metadata": {},
   "outputs": [],
   "source": [
    "import pandas as pd\n",
    "import seaborn as sns\n",
    "import torch\n",
    "import torch.nn as nn\n",
    "import matplotlib.pyplot as plt\n",
    "from sklearn.metrics import precision_recall_curve, confusion_matrix\n",
    "\n",
    "from utils import read_datasets, get_score, plot_anomalies\n",
    "import numpy as np"
   ]
  },
  {
   "cell_type": "markdown",
   "metadata": {},
   "source": [
    "## Read datasets"
   ]
  },
  {
   "cell_type": "code",
   "execution_count": 23,
   "metadata": {},
   "outputs": [],
   "source": [
    "scaled_df1, train_y1, scaled_df2, train_y2, scaled_test_df, y = read_datasets()"
   ]
  },
  {
   "cell_type": "markdown",
   "metadata": {},
   "source": [
    "## Set network parameters"
   ]
  },
  {
   "cell_type": "code",
   "execution_count": 24,
   "metadata": {},
   "outputs": [],
   "source": [
    "# Set parameters\n",
    "# torch.cuda.set_device(0)\n",
    "\n",
    "input_size = scaled_test_df.shape[1]\n",
    "\n",
    "# Data params\n",
    "batch_size = scaled_df1.shape[0]\n",
    "\n",
    "# LSTM reads in one timestep at a time.\n",
    "lstm_input_size = 1\n",
    "\n",
    "# size of hidden layers\n",
    "h1 = 32\n",
    "output_dim = 1\n",
    "num_layers = 3\n",
    "learning_rate = 1e-3\n",
    "num_epochs = 100\n",
    "dtype = torch.float"
   ]
  },
  {
   "cell_type": "markdown",
   "metadata": {},
   "source": [
    "## Convert datasets to Tensors"
   ]
  },
  {
   "cell_type": "code",
   "execution_count": 25,
   "metadata": {},
   "outputs": [],
   "source": [
    "# make training and test sets in torch\n",
    "X_train = torch.from_numpy(scaled_df1.to_numpy()).type(torch.Tensor)\n",
    "X_val = torch.from_numpy(scaled_df2.to_numpy()).type(torch.Tensor)\n",
    "X_test = torch.from_numpy(scaled_test_df.to_numpy()).type(torch.Tensor)\n",
    "y_train = torch.from_numpy(train_y1.to_numpy()).type(torch.Tensor).view(-1)\n",
    "y_val = torch.from_numpy(train_y2.to_numpy()).type(torch.Tensor).view(-1)\n",
    "y_test = torch.from_numpy(y.to_numpy()).type(torch.Tensor).view(-1)\n",
    "\n",
    "X_train = X_train.view(scaled_df1.shape[1], scaled_df1.shape[0])\n",
    "X_val = X_val.view(scaled_df2.shape[1], scaled_df2.shape[0])\n",
    "X_test = X_test.view(scaled_test_df.shape[1], scaled_test_df.shape[0])"
   ]
  },
  {
   "cell_type": "markdown",
   "metadata": {},
   "source": [
    "## Build LSTM model"
   ]
  },
  {
   "cell_type": "code",
   "execution_count": 26,
   "metadata": {},
   "outputs": [],
   "source": [
    "# Define model\n",
    "class LSTM(nn.Module):\n",
    "\n",
    "    def __init__(self, input_dim, hidden_dim, batch_size, output_dim=1,\n",
    "                 num_layers=2):\n",
    "        super(LSTM, self).__init__()\n",
    "        self.input_dim = input_dim\n",
    "        self.hidden_dim = hidden_dim\n",
    "        self.batch_size = batch_size\n",
    "        self.num_layers = num_layers\n",
    "\n",
    "        # define the LSTM layer\n",
    "        self.lstm = nn.LSTM(self.input_dim, self.hidden_dim, self.num_layers)\n",
    "\n",
    "        # define the output layer\n",
    "        self.linear = nn.Linear(self.hidden_dim, output_dim)\n",
    "\n",
    "    def init_hidden(self, x):\n",
    "        return (torch.zeros(self.num_layers, x.shape[0], self.hidden_dim),\n",
    "                torch.zeros(self.num_layers, x.shape[0], self.hidden_dim))\n",
    "    \n",
    "    # forward pass through LSTM layer\n",
    "    def forward(self, x):\n",
    "        self.hidden = self.init_hidden(x)\n",
    "\n",
    "        lstm_out, self.hidden = self.lstm(x.view(x.shape[0], x.shape[1], -1))\n",
    "\n",
    "        y_pred = self.linear(lstm_out[-1].view(x.shape[1], -1))\n",
    "        return y_pred.view(-1)\n",
    "\n"
   ]
  },
  {
   "cell_type": "markdown",
   "metadata": {},
   "source": [
    "## Create LSTM"
   ]
  },
  {
   "cell_type": "code",
   "execution_count": 27,
   "metadata": {},
   "outputs": [],
   "source": [
    "model = LSTM(lstm_input_size, h1, batch_size=batch_size, output_dim=output_dim, num_layers=num_layers)\n",
    "\n",
    "loss_fn = torch.nn.MSELoss(reduction='sum')\n",
    "\n",
    "optimiser = torch.optim.Adam(model.parameters(), lr=learning_rate)"
   ]
  },
  {
   "cell_type": "markdown",
   "metadata": {},
   "source": [
    "## Train model"
   ]
  },
  {
   "cell_type": "code",
   "execution_count": 28,
   "metadata": {},
   "outputs": [
    {
     "name": "stdout",
     "output_type": "stream",
     "text": [
      "Epoch 1 Train Loss:59.74062728881836\n",
      "Epoch 2 Train Loss:37.574398040771484\n",
      "Epoch 3 Train Loss:20.408443450927734\n",
      "Epoch 4 Train Loss:8.416611671447754\n",
      "Epoch 5 Train Loss:1.6961416006088257\n",
      "Epoch 6 Train Loss:0.05685998126864433\n",
      "Epoch 7 Train Loss:2.465566396713257\n",
      "Epoch 8 Train Loss:6.440132141113281\n",
      "Epoch 9 Train Loss:9.239053726196289\n",
      "Epoch 10 Train Loss:9.78507137298584\n",
      "Epoch 11 Train Loss:8.47361946105957\n",
      "Epoch 12 Train Loss:6.210906505584717\n",
      "Epoch 13 Train Loss:3.829271078109741\n",
      "Epoch 14 Train Loss:1.8796255588531494\n",
      "Epoch 15 Train Loss:0.6158633232116699\n",
      "Epoch 16 Train Loss:0.05760292708873749\n",
      "Epoch 17 Train Loss:0.07455842196941376\n",
      "Epoch 18 Train Loss:0.46523675322532654\n",
      "Epoch 19 Train Loss:1.0183701515197754\n",
      "Epoch 20 Train Loss:1.554098129272461\n",
      "Epoch 21 Train Loss:1.9461455345153809\n",
      "Epoch 22 Train Loss:2.1282074451446533\n",
      "Epoch 23 Train Loss:2.088857889175415\n",
      "Epoch 24 Train Loss:1.8595614433288574\n",
      "Epoch 25 Train Loss:1.4996758699417114\n",
      "Epoch 26 Train Loss:1.0812042951583862\n",
      "Epoch 27 Train Loss:0.6750462651252747\n",
      "Epoch 28 Train Loss:0.3397955894470215\n",
      "Epoch 29 Train Loss:0.11380837857723236\n",
      "Epoch 30 Train Loss:0.011129789054393768\n",
      "Epoch 31 Train Loss:0.021677235141396523\n",
      "Epoch 32 Train Loss:0.11567635834217072\n",
      "Epoch 33 Train Loss:0.2516196072101593\n",
      "Epoch 34 Train Loss:0.38612931966781616\n",
      "Epoch 35 Train Loss:0.48344409465789795\n",
      "Epoch 36 Train Loss:0.5222284197807312\n",
      "Epoch 37 Train Loss:0.49817392230033875\n",
      "Epoch 38 Train Loss:0.4221991300582886\n",
      "Epoch 39 Train Loss:0.3153209090232849\n",
      "Epoch 40 Train Loss:0.20205175876617432\n",
      "Epoch 41 Train Loss:0.1042105108499527\n",
      "Epoch 42 Train Loss:0.03655518963932991\n",
      "Epoch 43 Train Loss:0.004854705650359392\n",
      "Epoch 44 Train Loss:0.00632752850651741\n",
      "Epoch 45 Train Loss:0.03184012323617935\n",
      "Epoch 46 Train Loss:0.06902767717838287\n",
      "Epoch 47 Train Loss:0.10549614578485489\n",
      "Epoch 48 Train Loss:0.13143061101436615\n",
      "Epoch 49 Train Loss:0.14119938015937805\n",
      "Epoch 50 Train Loss:0.1338164210319519\n",
      "Epoch 51 Train Loss:0.11236409842967987\n",
      "Epoch 52 Train Loss:0.08266284316778183\n",
      "Epoch 53 Train Loss:0.05156224966049194\n",
      "Epoch 54 Train Loss:0.025259334594011307\n",
      "Epoch 55 Train Loss:0.007987869903445244\n",
      "Epoch 56 Train Loss:0.0013200932880863547\n",
      "Epoch 57 Train Loss:0.00417039031162858\n",
      "Epoch 58 Train Loss:0.013424317352473736\n",
      "Epoch 59 Train Loss:0.024978255853056908\n",
      "Epoch 60 Train Loss:0.034889258444309235\n",
      "Epoch 61 Train Loss:0.04033073037862778\n",
      "Epoch 62 Train Loss:0.04012945666909218\n",
      "Epoch 63 Train Loss:0.03480077534914017\n",
      "Epoch 64 Train Loss:0.026136724278330803\n",
      "Epoch 65 Train Loss:0.01652691885828972\n",
      "Epoch 66 Train Loss:0.008233091793954372\n",
      "Epoch 67 Train Loss:0.002817791886627674\n",
      "Epoch 68 Train Loss:0.000854176701977849\n",
      "Epoch 69 Train Loss:0.0019438846502453089\n",
      "Epoch 70 Train Loss:0.004986439365893602\n",
      "Epoch 71 Train Loss:0.008585906587541103\n",
      "Epoch 72 Train Loss:0.011465955525636673\n",
      "Epoch 73 Train Loss:0.012783571146428585\n",
      "Epoch 74 Train Loss:0.012277310714125633\n",
      "Epoch 75 Train Loss:0.01023807842284441\n",
      "Epoch 76 Train Loss:0.007338028866797686\n",
      "Epoch 77 Train Loss:0.004384856205433607\n",
      "Epoch 78 Train Loss:0.0020779897458851337\n",
      "Epoch 79 Train Loss:0.0008318853797391057\n",
      "Epoch 80 Train Loss:0.0007055433234199882\n",
      "Epoch 81 Train Loss:0.0014418672071769834\n",
      "Epoch 82 Train Loss:0.002590673975646496\n",
      "Epoch 83 Train Loss:0.003668023506179452\n",
      "Epoch 84 Train Loss:0.0043007261119782925\n",
      "Epoch 85 Train Loss:0.0043160212226212025\n",
      "Epoch 86 Train Loss:0.0037582647055387497\n",
      "Epoch 87 Train Loss:0.0028388637583702803\n",
      "Epoch 88 Train Loss:0.001844851765781641\n",
      "Epoch 89 Train Loss:0.001039998373016715\n",
      "Epoch 90 Train Loss:0.0005896102520637214\n",
      "Epoch 91 Train Loss:0.0005273298593237996\n",
      "Epoch 92 Train Loss:0.0007673260988667607\n",
      "Epoch 93 Train Loss:0.0011505375150591135\n",
      "Epoch 94 Train Loss:0.0015051771188154817\n",
      "Epoch 95 Train Loss:0.0017009888542816043\n",
      "Epoch 96 Train Loss:0.001681904192082584\n",
      "Epoch 97 Train Loss:0.0014701548498123884\n",
      "Epoch 98 Train Loss:0.0011460032546892762\n",
      "Epoch 99 Train Loss:0.0008126887260004878\n",
      "Epoch 100 Train Loss:0.0005599872674793005\n"
     ]
    }
   ],
   "source": [
    "# Train model\n",
    "\n",
    "hist = np.zeros(num_epochs)\n",
    "prediction_list = []\n",
    "prediction_list_val = []\n",
    "\n",
    "for epoch in range(num_epochs):\n",
    "    # Forward pass\n",
    "    y_pred = model(X_train)\n",
    "\n",
    "    loss = loss_fn(y_pred, y_train)\n",
    "    # if epoch % 100 == 0:\n",
    "    #     print(\"Epoch \", epoch, \"MSE: \", loss.item())\n",
    "    hist[epoch] = loss.item()\n",
    "\n",
    "    # Zero out gradient, else they will accumulate between epochs\n",
    "    optimiser.zero_grad()\n",
    "\n",
    "    # Backward pass\n",
    "    loss.backward()\n",
    "\n",
    "    # Update parameters\n",
    "    optimiser.step()\n",
    "    running_loss_train = loss.item()\n",
    "    print('Epoch {} Train Loss:{}'.format(epoch + 1, running_loss_train))\n"
   ]
  },
  {
   "cell_type": "markdown",
   "metadata": {},
   "source": [
    "## Plot precision and recall for different threshold values"
   ]
  },
  {
   "cell_type": "code",
   "execution_count": 29,
   "metadata": {},
   "outputs": [
    {
     "data": {
      "image/png": "[encoded data removed]",
      "text/plain": [
       "<Figure size 432x288 with 1 Axes>"
      ]
     },
     "metadata": {
      "needs_background": "light"
     },
     "output_type": "display_data"
    }
   ],
   "source": [
    "# Plot preds and performance\n",
    "# base on https://towardsdatascience.com/extreme-rare-event-classification-using-autoencoders-in-keras-a565b386f098\n",
    "\n",
    "valid_x_predictions = model(X_val)\n",
    "mse = np.mean(np.power(X_val.detach().numpy() - valid_x_predictions.detach().numpy(), 2), axis=0)\n",
    "error_df = pd.DataFrame({'Reconstruction_error': mse,\n",
    "                         'True_class': y_val == 1})\n",
    "\n",
    "precision_rt, recall_rt, threshold_rt = precision_recall_curve(error_df.True_class, error_df.Reconstruction_error)\n",
    "plt.plot(threshold_rt, precision_rt[1:], label=\"Precision\", linewidth=5)\n",
    "plt.plot(threshold_rt, recall_rt[1:], label=\"Recall\", linewidth=5)\n",
    "plt.title('Precision and recall for different threshold values')\n",
    "plt.xlabel('Threshold')\n",
    "plt.ylabel('Precision/Recall')\n",
    "plt.legend()\n",
    "# plt.show()\n",
    "plt.savefig('plots/lstm/pre_rec.png', bbox_inches='tight')\n"
   ]
  },
  {
   "cell_type": "markdown",
   "metadata": {},
   "source": [
    "## Plot reconstruction error for the two classes"
   ]
  },
  {
   "cell_type": "code",
   "execution_count": 30,
   "metadata": {},
   "outputs": [
    {
     "data": {
      "image/png": "[encoded data removed]",
      "text/plain": [
       "<Figure size 432x288 with 1 Axes>"
      ]
     },
     "metadata": {
      "needs_background": "light"
     },
     "output_type": "display_data"
    }
   ],
   "source": [
    "# based on https://towardsdatascience.com/extreme-rare-event-classification-using-autoencoders-in-keras-a565b386f098\n",
    "threshold = 1\n",
    "\n",
    "\n",
    "test_x_predictions = model(X_test)\n",
    "mse = np.mean(np.power(X_test.detach().numpy() - test_x_predictions.detach().numpy(), 2), axis=0)\n",
    "error_df_test = pd.DataFrame({'Reconstruction_error': mse,\n",
    "                        'True_class': y})\n",
    "error_df_test = error_df_test.reset_index()\n",
    "\n",
    "groups = error_df_test.groupby('True_class')\n",
    "\n",
    "fig, ax = plt.subplots()\n",
    "\n",
    "for name, group in groups:\n",
    "    ax.plot(group.index, group.Reconstruction_error, marker='o', ms=3.5, linestyle='',\n",
    "            label= \"Attack\" if name == 1 else \"Normal\")\n",
    "ax.hlines(threshold, ax.get_xlim()[0], ax.get_xlim()[1], colors=\"r\", zorder=100, label='Threshold')\n",
    "ax.legend()\n",
    "plt.title(\"Reconstruction error for different classes\")\n",
    "plt.ylabel(\"Reconstruction error\")\n",
    "plt.xlabel(\"Data point index\")\n",
    "# plt.show()\n",
    "plt.savefig('plots/lstm/diff_classes.png', bbox_inches='tight')\n",
    "\n"
   ]
  },
  {
   "cell_type": "markdown",
   "metadata": {},
   "source": [
    "## Scores"
   ]
  },
  {
   "cell_type": "code",
   "execution_count": 32,
   "metadata": {},
   "outputs": [
    {
     "name": "stdout",
     "output_type": "stream",
     "text": [
      "TP: 42, FP: 428, TPR: 0.10319410319410319, TNR: 0.7455410225921522\n",
      "Sttd: 0.7161248122077615, Scm: 0.42436756289312766, S: 0.5702461875504445\n"
     ]
    }
   ],
   "source": [
    "predicted_anomalies = np.where(error_df.Reconstruction_error.values > threshold)[0]\n",
    "true_anomalies = np.where(error_df_test.True_class.values > 0)[0]\n",
    "[tp, fp, fn, tn, tpr, tnr, Sttd, Scm, S] = get_score(predicted_anomalies, true_anomalies, y=y)\n",
    "print(\"TP: {0}, FP: {1}, TPR: {2}, TNR: {3}\".format(tp, fp, tpr, tnr))\n",
    "print(\"Sttd: {0}, Scm: {1}, S: {2}\".format(Sttd, Scm, S))"
   ]
  }
 ],
 "metadata": {
  "kernelspec": {
   "display_name": "Python 3",
   "language": "python",
   "name": "python3"
  },
  "language_info": {
   "codemirror_mode": {
    "name": "ipython",
    "version": 3
   },
   "file_extension": ".py",
   "mimetype": "text/x-python",
   "name": "python",
   "nbconvert_exporter": "python",
   "pygments_lexer": "ipython3",
   "version": "3.7.3"
  }
 },
 "nbformat": 4,
 "nbformat_minor": 2
}
