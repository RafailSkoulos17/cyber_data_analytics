{
 "cells": [
  {
   "cell_type": "markdown",
   "metadata": {},
   "source": [
    "# Bonus task - LSTM implementation"
   ]
  },
  {
   "cell_type": "code",
   "execution_count": 45,
   "metadata": {},
   "outputs": [],
   "source": [
    "import pandas as pd\n",
    "import seaborn as sns\n",
    "import torch\n",
    "import torch.nn as nn\n",
    "import matplotlib.pyplot as plt\n",
    "from sklearn.metrics import precision_recall_curve, confusion_matrix\n",
    "\n",
    "from utils import read_datasets, get_score, plot_anomalies\n",
    "import numpy as np"
   ]
  },
  {
   "cell_type": "markdown",
   "metadata": {},
   "source": [
    "## Read datasets"
   ]
  },
  {
   "cell_type": "code",
   "execution_count": 46,
   "metadata": {},
   "outputs": [],
   "source": [
    "scaled_df1, train_y1, scaled_df2, train_y2, scaled_test_df, y = read_datasets()"
   ]
  },
  {
   "cell_type": "markdown",
   "metadata": {},
   "source": [
    "## Set network parameters"
   ]
  },
  {
   "cell_type": "code",
   "execution_count": 47,
   "metadata": {},
   "outputs": [],
   "source": [
    "# Set parameters\n",
    "# torch.cuda.set_device(0)\n",
    "\n",
    "input_size = scaled_test_df.shape[1]\n",
    "\n",
    "# Data params\n",
    "batch_size = scaled_df1.shape[0]\n",
    "\n",
    "# LSTM reads in one timestep at a time.\n",
    "lstm_input_size = 1\n",
    "\n",
    "# size of hidden layers\n",
    "h1 = 32\n",
    "output_dim = 1\n",
    "num_layers = 3\n",
    "learning_rate = 1e-3\n",
    "num_epochs = 100\n",
    "dtype = torch.float"
   ]
  },
  {
   "cell_type": "markdown",
   "metadata": {},
   "source": [
    "## Convert datasets to Tensors"
   ]
  },
  {
   "cell_type": "code",
   "execution_count": 48,
   "metadata": {},
   "outputs": [],
   "source": [
    "# make training and test sets in torch\n",
    "X_train = torch.from_numpy(scaled_df1.to_numpy()).type(torch.Tensor)\n",
    "X_val = torch.from_numpy(scaled_df2.to_numpy()).type(torch.Tensor)\n",
    "X_test = torch.from_numpy(scaled_test_df.to_numpy()).type(torch.Tensor)\n",
    "y_train = torch.from_numpy(train_y1.to_numpy()).type(torch.Tensor).view(-1)\n",
    "y_val = torch.from_numpy(train_y2.to_numpy()).type(torch.Tensor).view(-1)\n",
    "y_test = torch.from_numpy(y.to_numpy()).type(torch.Tensor).view(-1)\n",
    "\n",
    "X_train = X_train.view(scaled_df1.shape[1], scaled_df1.shape[0])\n",
    "X_val = X_val.view(scaled_df2.shape[1], scaled_df2.shape[0])\n",
    "X_test = X_test.view(scaled_test_df.shape[1], scaled_test_df.shape[0])"
   ]
  },
  {
   "cell_type": "markdown",
   "metadata": {},
   "source": [
    "## Build LSTM model"
   ]
  },
  {
   "cell_type": "code",
   "execution_count": 49,
   "metadata": {},
   "outputs": [],
   "source": [
    "#####################\n",
    "# Build model\n",
    "#####################\n",
    "\n",
    "\n",
    "# Define model\n",
    "class LSTM(nn.Module):\n",
    "\n",
    "    def __init__(self, input_dim, hidden_dim, batch_size, output_dim=1,\n",
    "                 num_layers=2):\n",
    "        super(LSTM, self).__init__()\n",
    "        self.input_dim = input_dim\n",
    "        self.hidden_dim = hidden_dim\n",
    "        self.batch_size = batch_size\n",
    "        self.num_layers = num_layers\n",
    "\n",
    "        # define the LSTM layer\n",
    "        self.lstm = nn.LSTM(self.input_dim, self.hidden_dim, self.num_layers)\n",
    "\n",
    "        # define the output layer\n",
    "        self.linear = nn.Linear(self.hidden_dim, output_dim)\n",
    "\n",
    "    def init_hidden(self, x):\n",
    "        return (torch.zeros(self.num_layers, x.shape[0], self.hidden_dim),\n",
    "                torch.zeros(self.num_layers, x.shape[0], self.hidden_dim))\n",
    "    \n",
    "    # forward pass through LSTM layer\n",
    "    def forward(self, x):\n",
    "        self.hidden = self.init_hidden(x)\n",
    "\n",
    "        lstm_out, self.hidden = self.lstm(x.view(x.shape[0], x.shape[1], -1))\n",
    "\n",
    "        y_pred = self.linear(lstm_out[-1].view(x.shape[1], -1))\n",
    "        return y_pred.view(-1)\n",
    "\n"
   ]
  },
  {
   "cell_type": "markdown",
   "metadata": {},
   "source": [
    "## Create LSTM"
   ]
  },
  {
   "cell_type": "code",
   "execution_count": 50,
   "metadata": {},
   "outputs": [],
   "source": [
    "model = LSTM(lstm_input_size, h1, batch_size=batch_size, output_dim=output_dim, num_layers=num_layers)\n",
    "\n",
    "loss_fn = torch.nn.MSELoss(reduction='sum')\n",
    "\n",
    "optimiser = torch.optim.Adam(model.parameters(), lr=learning_rate)"
   ]
  },
  {
   "cell_type": "markdown",
   "metadata": {},
   "source": [
    "## Train model"
   ]
  },
  {
   "cell_type": "code",
   "execution_count": 52,
   "metadata": {},
   "outputs": [
    {
     "name": "stdout",
     "output_type": "stream",
     "text": [
      "Epoch 1 Train Loss:304.747314453125\n",
      "Epoch 2 Train Loss:248.53814697265625\n",
      "Epoch 3 Train Loss:197.35670471191406\n",
      "Epoch 4 Train Loss:151.18702697753906\n",
      "Epoch 5 Train Loss:110.17108917236328\n",
      "Epoch 6 Train Loss:74.61627197265625\n",
      "Epoch 7 Train Loss:45.044151306152344\n",
      "Epoch 8 Train Loss:22.200634002685547\n",
      "Epoch 9 Train Loss:7.015934467315674\n",
      "Epoch 10 Train Loss:0.39790624380111694\n",
      "Epoch 11 Train Loss:2.5572609901428223\n",
      "Epoch 12 Train Loss:11.44882583618164\n",
      "Epoch 13 Train Loss:21.751367568969727\n",
      "Epoch 14 Train Loss:28.158159255981445\n",
      "Epoch 15 Train Loss:28.891687393188477\n",
      "Epoch 16 Train Loss:25.121213912963867\n",
      "Epoch 17 Train Loss:19.04611587524414\n",
      "Epoch 18 Train Loss:12.642169952392578\n",
      "Epoch 19 Train Loss:7.194157600402832\n",
      "Epoch 20 Train Loss:3.289409637451172\n",
      "Epoch 21 Train Loss:0.9999744296073914\n",
      "Epoch 22 Train Loss:0.0945608839392662\n",
      "Epoch 23 Train Loss:0.20935598015785217\n",
      "Epoch 24 Train Loss:0.9608027338981628\n",
      "Epoch 25 Train Loss:2.0085415840148926\n",
      "Epoch 26 Train Loss:3.0837039947509766\n",
      "Epoch 27 Train Loss:3.996035099029541\n",
      "Epoch 28 Train Loss:4.629352569580078\n",
      "Epoch 29 Train Loss:4.931284427642822\n",
      "Epoch 30 Train Loss:4.9008049964904785\n",
      "Epoch 31 Train Loss:4.575501918792725\n",
      "Epoch 32 Train Loss:4.0194878578186035\n",
      "Epoch 33 Train Loss:3.3123717308044434\n",
      "Epoch 34 Train Loss:2.5392558574676514\n",
      "Epoch 35 Train Loss:1.781881332397461\n",
      "Epoch 36 Train Loss:1.1109274625778198\n",
      "Epoch 37 Train Loss:0.5797303915023804\n",
      "Epoch 38 Train Loss:0.21983294188976288\n",
      "Epoch 39 Train Loss:0.038844432681798935\n",
      "Epoch 40 Train Loss:0.021109027788043022\n",
      "Epoch 41 Train Loss:0.131397545337677\n",
      "Epoch 42 Train Loss:0.3213648796081543\n",
      "Epoch 43 Train Loss:0.5379155874252319\n",
      "Epoch 44 Train Loss:0.7320321202278137\n",
      "Epoch 45 Train Loss:0.8663647770881653\n",
      "Epoch 46 Train Loss:0.920065701007843\n",
      "Epoch 47 Train Loss:0.8900479674339294\n",
      "Epoch 48 Train Loss:0.7887266874313354\n",
      "Epoch 49 Train Loss:0.6391783952713013\n",
      "Epoch 50 Train Loss:0.4691165089607239\n",
      "Epoch 51 Train Loss:0.30511218309402466\n",
      "Epoch 52 Train Loss:0.16816015541553497\n",
      "Epoch 53 Train Loss:0.07116558402776718\n",
      "Epoch 54 Train Loss:0.01836944930255413\n",
      "Epoch 55 Train Loss:0.0063707707449793816\n",
      "Epoch 56 Train Loss:0.026193436235189438\n",
      "Epoch 57 Train Loss:0.06580697000026703\n",
      "Epoch 58 Train Loss:0.11259467899799347\n",
      "Epoch 59 Train Loss:0.15540462732315063\n",
      "Epoch 60 Train Loss:0.18597131967544556\n",
      "Epoch 61 Train Loss:0.19963982701301575\n",
      "Epoch 62 Train Loss:0.1954229772090912\n",
      "Epoch 63 Train Loss:0.1755138486623764\n",
      "Epoch 64 Train Loss:0.1444086730480194\n",
      "Epoch 65 Train Loss:0.10781804472208023\n",
      "Epoch 66 Train Loss:0.07156243920326233\n",
      "Epoch 67 Train Loss:0.04059715196490288\n",
      "Epoch 68 Train Loss:0.018311522901058197\n",
      "Epoch 69 Train Loss:0.006174483336508274\n",
      "Epoch 70 Train Loss:0.0037446273490786552\n",
      "Epoch 71 Train Loss:0.009013584814965725\n",
      "Epoch 72 Train Loss:0.018981600180268288\n",
      "Epoch 73 Train Loss:0.03034144826233387\n",
      "Epoch 74 Train Loss:0.040128350257873535\n",
      "Epoch 75 Train Loss:0.04621769115328789\n",
      "Epoch 76 Train Loss:0.04759162291884422\n",
      "Epoch 77 Train Loss:0.04435225576162338\n",
      "Epoch 78 Train Loss:0.037513524293899536\n",
      "Epoch 79 Train Loss:0.028647730126976967\n",
      "Epoch 80 Train Loss:0.019480062648653984\n",
      "Epoch 81 Train Loss:0.011523105204105377\n",
      "Epoch 82 Train Loss:0.0058144740760326385\n",
      "Epoch 83 Train Loss:0.0027952007949352264\n",
      "Epoch 84 Train Loss:0.002327008405700326\n",
      "Epoch 85 Train Loss:0.0038198719266802073\n",
      "Epoch 86 Train Loss:0.006425137165933847\n",
      "Epoch 87 Train Loss:0.009245472028851509\n",
      "Epoch 88 Train Loss:0.011516901664435863\n",
      "Epoch 89 Train Loss:0.012734143063426018\n",
      "Epoch 90 Train Loss:0.01270387601107359\n",
      "Epoch 91 Train Loss:0.011528654024004936\n",
      "Epoch 92 Train Loss:0.009534547105431557\n",
      "Epoch 93 Train Loss:0.007167624309659004\n",
      "Epoch 94 Train Loss:0.004882961045950651\n",
      "Epoch 95 Train Loss:0.0030496264807879925\n",
      "Epoch 96 Train Loss:0.0018878573318943381\n",
      "Epoch 97 Train Loss:0.0014478436205536127\n",
      "Epoch 98 Train Loss:0.001626182347536087\n",
      "Epoch 99 Train Loss:0.0022123733069747686\n",
      "Epoch 100 Train Loss:0.0029508324805647135\n"
     ]
    }
   ],
   "source": [
    "# Train model\n",
    "\n",
    "hist = np.zeros(num_epochs)\n",
    "prediction_list = []\n",
    "prediction_list_val = []\n",
    "\n",
    "for epoch in range(num_epochs):\n",
    "    # Forward pass\n",
    "    y_pred = model(X_train)\n",
    "\n",
    "    loss = loss_fn(y_pred, y_train)\n",
    "    # if epoch % 100 == 0:\n",
    "    #     print(\"Epoch \", epoch, \"MSE: \", loss.item())\n",
    "    hist[epoch] = loss.item()\n",
    "\n",
    "    # Zero out gradient, else they will accumulate between epochs\n",
    "    optimiser.zero_grad()\n",
    "\n",
    "    # Backward pass\n",
    "    loss.backward()\n",
    "\n",
    "    # Update parameters\n",
    "    optimiser.step()\n",
    "    running_loss_train = loss.item()\n",
    "    print('Epoch {} Train Loss:{}'.format(epoch + 1, running_loss_train))\n"
   ]
  },
  {
   "cell_type": "markdown",
   "metadata": {},
   "source": [
    "## Plot precision and recall for different threshold values"
   ]
  },
  {
   "cell_type": "code",
   "execution_count": 91,
   "metadata": {},
   "outputs": [
    {
     "data": {
      "image/png": "[encoded data removed]",
      "text/plain": [
       "<Figure size 432x288 with 1 Axes>"
      ]
     },
     "metadata": {
      "needs_background": "light"
     },
     "output_type": "display_data"
    }
   ],
   "source": [
    "# Plot preds and performance\n",
    "# base on https://towardsdatascience.com/extreme-rare-event-classification-using-autoencoders-in-keras-a565b386f098\n",
    "\n",
    "valid_x_predictions = model(X_val)\n",
    "mse = np.mean(np.power(X_val.detach().numpy() - valid_x_predictions.detach().numpy(), 2), axis=0)\n",
    "error_df = pd.DataFrame({'Reconstruction_error': mse,\n",
    "                         'True_class': y_val == 1})\n",
    "\n",
    "precision_rt, recall_rt, threshold_rt = precision_recall_curve(error_df.True_class, error_df.Reconstruction_error)\n",
    "plt.plot(threshold_rt, precision_rt[1:], label=\"Precision\", linewidth=5)\n",
    "plt.plot(threshold_rt, recall_rt[1:], label=\"Recall\", linewidth=5)\n",
    "plt.title('Precision and recall for different threshold values')\n",
    "plt.xlabel('Threshold')\n",
    "plt.ylabel('Precision/Recall')\n",
    "plt.legend()\n",
    "plt.show()\n",
    "# plt.savefig('plots/lstm/pre_rec.png', bbox_inches='tight')\n"
   ]
  },
  {
   "cell_type": "markdown",
   "metadata": {},
   "source": [
    "## Plot reconstruction error for the two classes"
   ]
  },
  {
   "cell_type": "code",
   "execution_count": 92,
   "metadata": {},
   "outputs": [
    {
     "data": {
      "image/png": "[encoded data removed]",
      "text/plain": [
       "<Figure size 432x288 with 1 Axes>"
      ]
     },
     "metadata": {
      "needs_background": "light"
     },
     "output_type": "display_data"
    }
   ],
   "source": [
    "# based on https://towardsdatascience.com/extreme-rare-event-classification-using-autoencoders-in-keras-a565b386f098\n",
    "threshold = 1\n",
    "\n",
    "\n",
    "test_x_predictions = model(X_test)\n",
    "mse = np.mean(np.power(X_test.detach().numpy() - test_x_predictions.detach().numpy(), 2), axis=0)\n",
    "error_df_test = pd.DataFrame({'Reconstruction_error': mse,\n",
    "                        'True_class': y_test})\n",
    "error_df_test = error_df_test.reset_index()\n",
    "\n",
    "groups = error_df_test.groupby('True_class')\n",
    "\n",
    "fig, ax = plt.subplots()\n",
    "\n",
    "for name, group in groups:\n",
    "    ax.plot(group.index, group.Reconstruction_error, marker='o', ms=3.5, linestyle='',\n",
    "            label= \"Attack\" if name == 1 else \"Normal\")\n",
    "ax.hlines(threshold, ax.get_xlim()[0], ax.get_xlim()[1], colors=\"r\", zorder=100, label='Threshold')\n",
    "ax.legend()\n",
    "plt.title(\"Reconstruction error for different classes\")\n",
    "plt.ylabel(\"Reconstruction error\")\n",
    "plt.xlabel(\"Data point index\")\n",
    "plt.show()\n",
    "# plt.savefig('plots/lstm/diff_classes.png', bbox_inches='tight')\n",
    "\n"
   ]
  },
  {
   "cell_type": "markdown",
   "metadata": {},
   "source": [
    "## Scores"
   ]
  },
  {
   "cell_type": "code",
   "execution_count": 83,
   "metadata": {},
   "outputs": [
    {
     "name": "stdout",
     "output_type": "stream",
     "text": [
      "TP: 38, FP: 432, TPR: 0.07723577235772358, TNR: 0.7294927989981215\n",
      "Sttd: 0.7161248122077615, Scm: 0.40336428567792254, S: 0.559744548942842\n"
     ]
    }
   ],
   "source": [
    "predicted_anomalies = np.where(error_df.Reconstruction_error.values > threshold)[0]\n",
    "true_anomalies = np.where(error_df.True_class.values > 0)[0]\n",
    "[tp, fp, fn, tn, tpr, tnr, Sttd, Scm, S] = get_score(predicted_anomalies, true_anomalies, y=y)\n",
    "print(\"TP: {0}, FP: {1}, TPR: {2}, TNR: {3}\".format(tp, fp, tpr, tnr))\n",
    "print(\"Sttd: {0}, Scm: {1}, S: {2}\".format(Sttd, Scm, S))\n"
   ]
  }
 ],
 "metadata": {
  "kernelspec": {
   "display_name": "Python 3",
   "language": "python",
   "name": "python3"
  },
  "language_info": {
   "codemirror_mode": {
    "name": "ipython",
    "version": 3
   },
   "file_extension": ".py",
   "mimetype": "text/x-python",
   "name": "python",
   "nbconvert_exporter": "python",
   "pygments_lexer": "ipython3",
   "version": "3.7.3"
  }
 },
 "nbformat": 4,
 "nbformat_minor": 2
}
