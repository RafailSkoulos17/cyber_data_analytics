{
 "cells": [
  {
   "cell_type": "code",
   "execution_count": 1,
   "metadata": {},
   "outputs": [
    {
     "name": "stdout",
     "output_type": "stream",
     "text": [
      "Requirement already satisfied: atomicwrites==1.3.0 in c:\\users\\vasilis\\appdata\\roaming\\python\\python37\\site-packages (from -r requirements.txt (line 1)) (1.3.0)\n",
      "Requirement already satisfied: attrs==19.1.0 in c:\\users\\vasilis\\appdata\\roaming\\python\\python37\\site-packages (from -r requirements.txt (line 2)) (19.1.0)\n",
      "Requirement already satisfied: certifi==2019.3.9 in c:\\users\\vasilis\\appdata\\roaming\\python\\python37\\site-packages (from -r requirements.txt (line 3)) (2019.3.9)\n",
      "Requirement already satisfied: chardet==3.0.4 in c:\\users\\vasilis\\anaconda3\\lib\\site-packages (from -r requirements.txt (line 4)) (3.0.4)\n",
      "Requirement already satisfied: codecov==2.0.15 in c:\\users\\vasilis\\appdata\\roaming\\python\\python37\\site-packages (from -r requirements.txt (line 5)) (2.0.15)\n",
      "Requirement already satisfied: colorama==0.4.1 in c:\\users\\vasilis\\anaconda3\\lib\\site-packages (from -r requirements.txt (line 6)) (0.4.1)\n",
      "Requirement already satisfied: coverage==4.5.3 in c:\\users\\vasilis\\appdata\\roaming\\python\\python37\\site-packages (from -r requirements.txt (line 7)) (4.5.3)\n",
      "Requirement already satisfied: cycler==0.10.0 in c:\\users\\vasilis\\anaconda3\\lib\\site-packages (from -r requirements.txt (line 8)) (0.10.0)\n",
      "Requirement already satisfied: idna==2.8 in c:\\users\\vasilis\\anaconda3\\lib\\site-packages (from -r requirements.txt (line 9)) (2.8)\n",
      "Requirement already satisfied: imbalanced-learn==0.4.3 in c:\\users\\vasilis\\appdata\\roaming\\python\\python37\\site-packages (from -r requirements.txt (line 10)) (0.4.3)\n",
      "Requirement already satisfied: imblearn==0.0 in c:\\users\\vasilis\\appdata\\roaming\\python\\python37\\site-packages (from -r requirements.txt (line 11)) (0.0)\n",
      "Requirement already satisfied: importlib-metadata==0.17 in c:\\users\\vasilis\\appdata\\roaming\\python\\python37\\site-packages (from -r requirements.txt (line 12)) (0.17)\n",
      "Requirement already satisfied: joblib==0.13.2 in c:\\users\\vasilis\\appdata\\roaming\\python\\python37\\site-packages (from -r requirements.txt (line 13)) (0.13.2)\n",
      "Requirement already satisfied: kiwisolver==1.1.0 in c:\\users\\vasilis\\appdata\\roaming\\python\\python37\\site-packages (from -r requirements.txt (line 14)) (1.1.0)\n",
      "Collecting matplotlib==3.1.0 (from -r requirements.txt (line 15))\n",
      "  Using cached https://files.pythonhosted.org/packages/3b/52/17dbb82ca36937dd4d0027fe1945c3c78bdb465b4736903d0904b7f595ad/matplotlib-3.1.0-cp37-cp37m-win_amd64.whl\n",
      "Requirement already satisfied: more-itertools==7.0.0 in c:\\users\\vasilis\\appdata\\roaming\\python\\python37\\site-packages (from -r requirements.txt (line 16)) (7.0.0)\n",
      "Requirement already satisfied: nltk==3.4.1 in c:\\users\\vasilis\\appdata\\roaming\\python\\python37\\site-packages (from -r requirements.txt (line 17)) (3.4.1)\n",
      "Collecting numpy==1.16.4 (from -r requirements.txt (line 18))\n",
      "  Using cached https://files.pythonhosted.org/packages/ce/61/be72eee50f042db3acf0b1fb86650ad36d6c0d9be9fc29f8505d3b9d6baa/numpy-1.16.4-cp37-cp37m-win_amd64.whl\n",
      "Requirement already satisfied: packaging==19.0 in c:\\users\\vasilis\\appdata\\roaming\\python\\python37\\site-packages (from -r requirements.txt (line 19)) (19.0)\n",
      "Collecting pandas==0.24.2 (from -r requirements.txt (line 20))\n",
      "  Using cached https://files.pythonhosted.org/packages/61/c7/f943fceb712579bc538700e2c157dc4972e16abfe29bd4969149bad98c74/pandas-0.24.2-cp37-cp37m-win_amd64.whl\n",
      "Requirement already satisfied: patsy==0.5.1 in c:\\users\\vasilis\\anaconda3\\lib\\site-packages (from -r requirements.txt (line 21)) (0.5.1)\n",
      "Requirement already satisfied: pluggy==0.12.0 in c:\\users\\vasilis\\appdata\\roaming\\python\\python37\\site-packages (from -r requirements.txt (line 22)) (0.12.0)\n",
      "Requirement already satisfied: py==1.8.0 in c:\\users\\vasilis\\appdata\\roaming\\python\\python37\\site-packages (from -r requirements.txt (line 23)) (1.8.0)\n",
      "Requirement already satisfied: pyparsing==2.4.0 in c:\\users\\vasilis\\appdata\\roaming\\python\\python37\\site-packages (from -r requirements.txt (line 24)) (2.4.0)\n",
      "Requirement already satisfied: pytest==4.6.0 in c:\\users\\vasilis\\appdata\\roaming\\python\\python37\\site-packages (from -r requirements.txt (line 25)) (4.6.0)\n",
      "Requirement already satisfied: pytest-cov==2.7.1 in c:\\users\\vasilis\\appdata\\roaming\\python\\python37\\site-packages (from -r requirements.txt (line 26)) (2.7.1)\n",
      "Requirement already satisfied: python-dateutil==2.8.0 in c:\\users\\vasilis\\appdata\\roaming\\python\\python37\\site-packages (from -r requirements.txt (line 27)) (2.8.0)\n",
      "Requirement already satisfied: pytz==2019.1 in c:\\users\\vasilis\\appdata\\roaming\\python\\python37\\site-packages (from -r requirements.txt (line 28)) (2019.1)\n",
      "Requirement already satisfied: requests==2.22.0 in c:\\users\\vasilis\\appdata\\roaming\\python\\python37\\site-packages (from -r requirements.txt (line 29)) (2.22.0)\n",
      "Requirement already satisfied: saxpy==1.0.1.dev167 in c:\\users\\vasilis\\appdata\\roaming\\python\\python37\\site-packages (from -r requirements.txt (line 30)) (1.0.1.dev167)\n",
      "Collecting scikit-learn==0.21.2 (from -r requirements.txt (line 31))\n",
      "  Using cached https://files.pythonhosted.org/packages/75/14/fde90de4fc6722303ddbc183ec253c288dae8c7e4eb5a069ac49f14c9a0f/scikit_learn-0.21.2-cp37-cp37m-win_amd64.whl\n",
      "Collecting scipy==1.3.0 (from -r requirements.txt (line 32))\n",
      "  Using cached https://files.pythonhosted.org/packages/53/17/9dfd64540b6645fae581462ed2d1c8e680b7e946ca2789c5149693660392/scipy-1.3.0-cp37-cp37m-win_amd64.whl\n",
      "Requirement already satisfied: seaborn==0.9.0 in c:\\users\\vasilis\\anaconda3\\lib\\site-packages (from -r requirements.txt (line 33)) (0.9.0)\n",
      "Requirement already satisfied: six==1.12.0 in c:\\users\\vasilis\\anaconda3\\lib\\site-packages (from -r requirements.txt (line 34)) (1.12.0)\n",
      "Collecting sklearn==0.0 (from -r requirements.txt (line 35))\n",
      "Requirement already satisfied: statsmodels==0.9.0 in c:\\users\\vasilis\\anaconda3\\lib\\site-packages (from -r requirements.txt (line 36)) (0.9.0)\n",
      "Requirement already satisfied: urllib3==1.25.3 in c:\\users\\vasilis\\appdata\\roaming\\python\\python37\\site-packages (from -r requirements.txt (line 37)) (1.25.3)\n",
      "Requirement already satisfied: wcwidth==0.1.7 in c:\\users\\vasilis\\anaconda3\\lib\\site-packages (from -r requirements.txt (line 38)) (0.1.7)\n",
      "Requirement already satisfied: zipp==0.5.1 in c:\\users\\vasilis\\appdata\\roaming\\python\\python37\\site-packages (from -r requirements.txt (line 39)) (0.5.1)\n",
      "Requirement already satisfied: hmmlearn==0.2.2 in c:\\users\\vasilis\\appdata\\roaming\\python\\python37\\site-packages (from -r requirements.txt (line 40)) (0.2.2)\n",
      "Requirement already satisfied: setuptools in c:\\users\\vasilis\\anaconda3\\lib\\site-packages (from kiwisolver==1.1.0->-r requirements.txt (line 14)) (40.6.3)\n",
      "Installing collected packages: numpy, matplotlib, pandas, scipy, scikit-learn, sklearn\n",
      "Successfully installed matplotlib-3.1.0 numpy-1.16.4 pandas-0.24.2 scikit-learn-0.21.2 scipy-1.3.0 sklearn-0.0\n"
     ]
    },
    {
     "name": "stderr",
     "output_type": "stream",
     "text": [
      "  The script f2py.exe is installed in 'C:\\Users\\Vasilis\\AppData\\Roaming\\Python\\Python37\\Scripts' which is not on PATH.\n",
      "  Consider adding this directory to PATH or, if you prefer to suppress this warning, use --no-warn-script-location.\n"
     ]
    }
   ],
   "source": [
    "import sys\n",
    "!{sys.executable} -m pip install --user -r requirements.txt"
   ]
  },
  {
   "cell_type": "code",
   "execution_count": 2,
   "metadata": {},
   "outputs": [],
   "source": [
    "import pandas as pd\n",
    "from functools import reduce\n",
    "from sklearn.cluster import KMeans\n",
    "import matplotlib.pyplot as plt\n",
    "import matplotlib.colors as mcolors\n",
    "import seaborn as sns\n",
    "import numpy as np\n",
    "from IPython.display import display, HTML\n",
    "import warnings\n",
    "warnings.filterwarnings(\"ignore\")\n",
    "\n",
    "infected_ips = ['147.32.84.165', '147.32.84.191', '147.32.84.192', '147.32.84.193', '147.32.84.204',\n",
    "                '147.32.84.205', '147.32.84.206', '147.32.84.207', '147.32.84.208', '147.32.84.209']"
   ]
  },
  {
   "cell_type": "markdown",
   "metadata": {},
   "source": [
    "## Functions used"
   ]
  },
  {
   "cell_type": "code",
   "execution_count": 3,
   "metadata": {},
   "outputs": [],
   "source": [
    "def make_barplot(data, feature):\n",
    "    \"\"\"\n",
    "    Function for visualising the difference between categorical features for infected and normal hosts\n",
    "    :param data: the dataframe containing the data\n",
    "    :return:creates the wanted plot creates the wanted plot\n",
    "    \"\"\"\n",
    "    plt.figure()\n",
    "    feature_counts = (data.groupby(['is_infected'])[feature].value_counts(normalize=True).rename('percentage').mul(100)\n",
    "                         .reset_index().sort_values(feature))\n",
    "    ax = sns.barplot(x=feature, y='percentage', data=feature_counts, hue='is_infected',\n",
    "                     palette={0: mcolors.TABLEAU_COLORS['tab:blue'], 1: mcolors.TABLEAU_COLORS['tab:red']})\n",
    "    handles, _ = ax.get_legend_handles_labels()\n",
    "    ax.legend(handles, ['Normal Hosts', 'Infected host'], loc='upper right')\n",
    "    plt.xlabel(\"%s type\" % feature)\n",
    "    plt.ylabel(\"Percentage of occurrences\")\n",
    "    plt.grid()\n",
    "    plt.show()\n",
    "#     plt.savefig('plots/barplot_%s.png' % feature)"
   ]
  },
  {
   "cell_type": "code",
   "execution_count": 4,
   "metadata": {},
   "outputs": [],
   "source": [
    "def make_bar_graphs(x, y, feature):\n",
    "    \"\"\"\n",
    "    Function for visualising the difference between numerical features (mainly packtes and bytes) for infected and\n",
    "    normal hosts\n",
    "    :param x: the type of the hosts\n",
    "    :param y: the numerical values\n",
    "    :param feature: the type of the feature\n",
    "    :return: creates the wanted plot\n",
    "    \"\"\"\n",
    "    plt.figure()\n",
    "    y_pos = np.arange(len(x))\n",
    "    plt.bar(y_pos, y, align='center', alpha=0.5, color=[mcolors.TABLEAU_COLORS['tab:blue'],\n",
    "                                                        mcolors.TABLEAU_COLORS['tab:red']])\n",
    "    plt.xticks(y_pos, x)\n",
    "    plt.xlabel('Type of host')\n",
    "    plt.ylabel(feature)\n",
    "    plt.title('Average number of %s sent' % feature)\n",
    "    plt.show()\n",
    "#     plt.savefig('plots/barplot_%s.png' % feature)"
   ]
  },
  {
   "cell_type": "code",
   "execution_count": 5,
   "metadata": {},
   "outputs": [],
   "source": [
    "def netflow_encoding(flow, mappings):\n",
    "    \"\"\"\n",
    "    The netflow encoding described in Pellegrino, Gaetano, et al. \"Learning Behavioral Fingerprints From Netflows Using\n",
    "    Timed Automata.\"\n",
    "    :param flow: the flow to be given a code\n",
    "    :param df: the dataframe with all flows\n",
    "    :param mappings: dictionary with the features to be used for encoding and their cardinality\n",
    "    :return: the code that represents the flow\n",
    "    \"\"\"\n",
    "    code = 0\n",
    "    space_size = reduce((lambda x, y: x * y), list(mappings.values()))\n",
    "    for feature in mappings.keys():\n",
    "        code += flow[feature+'_num']*space_size/mappings[feature]\n",
    "        space_size = space_size/mappings[feature]\n",
    "    return code"
   ]
  },
  {
   "cell_type": "code",
   "execution_count": 6,
   "metadata": {},
   "outputs": [],
   "source": [
    "def find_percentile(val, percentiles):\n",
    "    \"\"\"\n",
    "    Helper function returning the relative index of placement in the percentiles\n",
    "    :param val: the value to be indexed\n",
    "    :param percentiles: the percentile limits\n",
    "    :return: the index of val in the percentiles\n",
    "    \"\"\"\n",
    "    ind = len(percentiles)\n",
    "    for i, p in enumerate(percentiles):\n",
    "        if val <= p:\n",
    "            ind = i\n",
    "            break\n",
    "    return ind"
   ]
  },
  {
   "cell_type": "code",
   "execution_count": 7,
   "metadata": {},
   "outputs": [],
   "source": [
    "def remove_background(df):\n",
    "    \"\"\"\n",
    "    Helper function removing background flows from a given dataframe\n",
    "    :param df: the dataframe\n",
    "    :return: the no-background dataframe\n",
    "    \"\"\"\n",
    "    df = df[df['label'] != 'Background']\n",
    "    return df"
   ]
  },
  {
   "cell_type": "markdown",
   "metadata": {},
   "source": [
    "## Read the dataset for scenario 10"
   ]
  },
  {
   "cell_type": "code",
   "execution_count": 8,
   "metadata": {},
   "outputs": [],
   "source": [
    "# # read the data in chunks due to their large size - uncomment the following lines if you want to read them again\n",
    "# # and store them in a pickle\n",
    "# dateparse = lambda x: pd.datetime.strptime(x, '%Y-%m-%d %H:%M:%S.%f')\n",
    "# data = pd.concat(remove_background(chunk) for chunk in pd.read_csv('datasets/CTU-Malware-Capture-Botnet-51_v2',\n",
    "#                                                                    chunksize=100000, delimiter=',',\n",
    "#                                                                    parse_dates=['date'], date_parser=dateparse))\n",
    "# data.to_pickle('no_background_data.pkl')\n",
    "\n",
    "# if the data without the background are there, load them\n",
    "data = pd.read_pickle('no_background_data.pkl')"
   ]
  },
  {
   "cell_type": "markdown",
   "metadata": {},
   "source": [
    "## Initial preprocessing of the data"
   ]
  },
  {
   "cell_type": "code",
   "execution_count": 9,
   "metadata": {},
   "outputs": [],
   "source": [
    "# resetting indices for data\n",
    "data = data.reset_index(drop=True)\n",
    "\n",
    "# parse packets and bytes as integers instead of strings\n",
    "data['packets'] = data['packets'].astype(int)\n",
    "data['bytes'] = data['bytes'].astype(int)\n",
    "\n",
    "# add the numerical representation of the categorical data\n",
    "data['protocol_num'] = pd.Categorical(data['protocol'], categories=data['protocol'].unique()).codes\n",
    "data['flags_num'] = pd.Categorical(data['flags'], categories=data['flags'].unique()).codes"
   ]
  },
  {
   "cell_type": "markdown",
   "metadata": {},
   "source": [
    "## Pick one infected host and the normal ones"
   ]
  },
  {
   "cell_type": "code",
   "execution_count": 10,
   "metadata": {},
   "outputs": [],
   "source": [
    "# pick one infected host and the normal ones\n",
    "infected_ip = '147.32.84.165'\n",
    "normal_ips = ['147.32.84.170', '147.32.84.134', '147.32.84.164', '147.32.87.36', '147.32.80.9', '147.32.87.11']\n",
    "\n",
    "# use both source and destination ips to distinguish infected from normal hosts\n",
    "infected = data[(data['src_ip'] == infected_ip) | (data['dst_ip'] == infected_ip)] \n",
    "infected = infected.reset_index()\n",
    "\n",
    "normal= data[(data['src_ip'].isin(normal_ips) & ~data['dst_ip'].isin(infected_ips)) |\n",
    "                  (data['dst_ip'].isin(normal_ips) & ~data['src_ip'].isin(infected_ips))]\n",
    "normal = normal.reset_index()"
   ]
  },
  {
   "cell_type": "markdown",
   "metadata": {},
   "source": [
    "## Check statistics of the data for the infected and the normal hosts to decide on the features for discretization"
   ]
  },
  {
   "cell_type": "code",
   "execution_count": 11,
   "metadata": {},
   "outputs": [
    {
     "name": "stdout",
     "output_type": "stream",
     "text": [
      "---------------- Stats for infected host ----------------\n"
     ]
    },
    {
     "data": {
      "text/html": [
       "<table border=\"1\" class=\"dataframe\">\n",
       "  <thead>\n",
       "    <tr style=\"text-align: right;\">\n",
       "      <th></th>\n",
       "      <th>duration</th>\n",
       "      <th>protocol_num</th>\n",
       "      <th>flags_num</th>\n",
       "      <th>tos</th>\n",
       "      <th>packets</th>\n",
       "      <th>bytes</th>\n",
       "      <th>flows</th>\n",
       "    </tr>\n",
       "  </thead>\n",
       "  <tbody>\n",
       "    <tr>\n",
       "      <th>count</th>\n",
       "      <td>29526.000000</td>\n",
       "      <td>29526.000000</td>\n",
       "      <td>29526.000000</td>\n",
       "      <td>29526.0</td>\n",
       "      <td>29526.000000</td>\n",
       "      <td>29526.000000</td>\n",
       "      <td>29526.0</td>\n",
       "    </tr>\n",
       "    <tr>\n",
       "      <th>mean</th>\n",
       "      <td>0.608945</td>\n",
       "      <td>1.932060</td>\n",
       "      <td>28.028043</td>\n",
       "      <td>0.0</td>\n",
       "      <td>12.038034</td>\n",
       "      <td>10938.679300</td>\n",
       "      <td>1.0</td>\n",
       "    </tr>\n",
       "    <tr>\n",
       "      <th>std</th>\n",
       "      <td>1.475436</td>\n",
       "      <td>0.345074</td>\n",
       "      <td>9.569902</td>\n",
       "      <td>0.0</td>\n",
       "      <td>84.293063</td>\n",
       "      <td>69710.054287</td>\n",
       "      <td>0.0</td>\n",
       "    </tr>\n",
       "    <tr>\n",
       "      <th>min</th>\n",
       "      <td>0.000000</td>\n",
       "      <td>0.000000</td>\n",
       "      <td>0.000000</td>\n",
       "      <td>0.0</td>\n",
       "      <td>1.000000</td>\n",
       "      <td>60.000000</td>\n",
       "      <td>1.0</td>\n",
       "    </tr>\n",
       "    <tr>\n",
       "      <th>25%</th>\n",
       "      <td>0.000000</td>\n",
       "      <td>2.000000</td>\n",
       "      <td>17.000000</td>\n",
       "      <td>0.0</td>\n",
       "      <td>1.000000</td>\n",
       "      <td>1066.000000</td>\n",
       "      <td>1.0</td>\n",
       "    </tr>\n",
       "    <tr>\n",
       "      <th>50%</th>\n",
       "      <td>0.000000</td>\n",
       "      <td>2.000000</td>\n",
       "      <td>31.000000</td>\n",
       "      <td>0.0</td>\n",
       "      <td>1.000000</td>\n",
       "      <td>1066.000000</td>\n",
       "      <td>1.0</td>\n",
       "    </tr>\n",
       "    <tr>\n",
       "      <th>75%</th>\n",
       "      <td>0.000000</td>\n",
       "      <td>2.000000</td>\n",
       "      <td>35.000000</td>\n",
       "      <td>0.0</td>\n",
       "      <td>1.000000</td>\n",
       "      <td>1066.000000</td>\n",
       "      <td>1.0</td>\n",
       "    </tr>\n",
       "    <tr>\n",
       "      <th>max</th>\n",
       "      <td>4.999000</td>\n",
       "      <td>2.000000</td>\n",
       "      <td>72.000000</td>\n",
       "      <td>0.0</td>\n",
       "      <td>1000.000000</td>\n",
       "      <td>787188.000000</td>\n",
       "      <td>1.0</td>\n",
       "    </tr>\n",
       "  </tbody>\n",
       "</table>"
      ],
      "text/plain": [
       "<IPython.core.display.HTML object>"
      ]
     },
     "metadata": {},
     "output_type": "display_data"
    },
    {
     "name": "stdout",
     "output_type": "stream",
     "text": [
      "---------------- Stats for normal hosts ----------------\n"
     ]
    },
    {
     "data": {
      "text/html": [
       "<table border=\"1\" class=\"dataframe\">\n",
       "  <thead>\n",
       "    <tr style=\"text-align: right;\">\n",
       "      <th></th>\n",
       "      <th>duration</th>\n",
       "      <th>protocol_num</th>\n",
       "      <th>flags_num</th>\n",
       "      <th>tos</th>\n",
       "      <th>packets</th>\n",
       "      <th>bytes</th>\n",
       "      <th>flows</th>\n",
       "    </tr>\n",
       "  </thead>\n",
       "  <tbody>\n",
       "    <tr>\n",
       "      <th>count</th>\n",
       "      <td>48979.000000</td>\n",
       "      <td>48979.000000</td>\n",
       "      <td>48979.000000</td>\n",
       "      <td>48979.0</td>\n",
       "      <td>48979.000000</td>\n",
       "      <td>4.897900e+04</td>\n",
       "      <td>48979.0</td>\n",
       "    </tr>\n",
       "    <tr>\n",
       "      <th>mean</th>\n",
       "      <td>0.486946</td>\n",
       "      <td>0.225668</td>\n",
       "      <td>3.535556</td>\n",
       "      <td>0.0</td>\n",
       "      <td>12.426203</td>\n",
       "      <td>7.525630e+03</td>\n",
       "      <td>1.0</td>\n",
       "    </tr>\n",
       "    <tr>\n",
       "      <th>std</th>\n",
       "      <td>1.181964</td>\n",
       "      <td>0.451509</td>\n",
       "      <td>3.750070</td>\n",
       "      <td>0.0</td>\n",
       "      <td>117.670148</td>\n",
       "      <td>1.153935e+05</td>\n",
       "      <td>0.0</td>\n",
       "    </tr>\n",
       "    <tr>\n",
       "      <th>min</th>\n",
       "      <td>0.000000</td>\n",
       "      <td>0.000000</td>\n",
       "      <td>0.000000</td>\n",
       "      <td>0.0</td>\n",
       "      <td>1.000000</td>\n",
       "      <td>6.000000e+01</td>\n",
       "      <td>1.0</td>\n",
       "    </tr>\n",
       "    <tr>\n",
       "      <th>25%</th>\n",
       "      <td>0.000000</td>\n",
       "      <td>0.000000</td>\n",
       "      <td>1.000000</td>\n",
       "      <td>0.0</td>\n",
       "      <td>1.000000</td>\n",
       "      <td>6.600000e+01</td>\n",
       "      <td>1.0</td>\n",
       "    </tr>\n",
       "    <tr>\n",
       "      <th>50%</th>\n",
       "      <td>0.000000</td>\n",
       "      <td>0.000000</td>\n",
       "      <td>2.000000</td>\n",
       "      <td>0.0</td>\n",
       "      <td>1.000000</td>\n",
       "      <td>1.200000e+02</td>\n",
       "      <td>1.0</td>\n",
       "    </tr>\n",
       "    <tr>\n",
       "      <th>75%</th>\n",
       "      <td>0.185000</td>\n",
       "      <td>0.000000</td>\n",
       "      <td>5.000000</td>\n",
       "      <td>0.0</td>\n",
       "      <td>4.000000</td>\n",
       "      <td>6.360000e+02</td>\n",
       "      <td>1.0</td>\n",
       "    </tr>\n",
       "    <tr>\n",
       "      <th>max</th>\n",
       "      <td>4.999000</td>\n",
       "      <td>2.000000</td>\n",
       "      <td>75.000000</td>\n",
       "      <td>0.0</td>\n",
       "      <td>5206.000000</td>\n",
       "      <td>7.762895e+06</td>\n",
       "      <td>1.0</td>\n",
       "    </tr>\n",
       "  </tbody>\n",
       "</table>"
      ],
      "text/plain": [
       "<IPython.core.display.HTML object>"
      ]
     },
     "metadata": {},
     "output_type": "display_data"
    },
    {
     "data": {
      "image/png": "[encoded data removed]",
      "text/plain": [
       "<Figure size 432x288 with 1 Axes>"
      ]
     },
     "metadata": {
      "needs_background": "light"
     },
     "output_type": "display_data"
    },
    {
     "data": {
      "image/png": "[encoded data removed]",
      "text/plain": [
       "<Figure size 432x288 with 1 Axes>"
      ]
     },
     "metadata": {
      "needs_background": "light"
     },
     "output_type": "display_data"
    },
    {
     "data": {
      "image/png": "[encoded data removed]",
      "text/plain": [
       "<Figure size 432x288 with 1 Axes>"
      ]
     },
     "metadata": {
      "needs_background": "light"
     },
     "output_type": "display_data"
    },
    {
     "name": "stdout",
     "output_type": "stream",
     "text": [
      "plots created\n"
     ]
    }
   ],
   "source": [
    "# separate the types of features in the dataset\n",
    "continuous_features = ['duration', 'protocol_num', 'flags_num', 'tos', 'packets', 'bytes', 'flows']\n",
    "categorical_features = ['protocol', 'flags']\n",
    "\n",
    "# check statistics for the most discriminative features in the dataset\n",
    "with pd.option_context('display.max_rows', None, 'display.max_columns', None):\n",
    "    print('---------------- Stats for infected host ----------------')\n",
    "    display(HTML(infected[continuous_features].describe().to_html()))\n",
    "    print('---------------- Stats for normal hosts ----------------')\n",
    "    display(HTML(normal[continuous_features].describe().to_html()))\n",
    "\n",
    "# preprocess the infected and normal data and plot possible feature candidates\n",
    "plot_data = pd.concat([infected, normal], ignore_index=True)\n",
    "for index, ip in enumerate(plot_data['src_ip']):\n",
    "    val = 1 if ip == infected_ip else 0\n",
    "    plot_data.set_value(index, 'is_infected', val)\n",
    "\n",
    "make_barplot(plot_data, 'protocol')\n",
    "make_bar_graphs(['Normal Hosts', 'Infected Host'], [normal[\"packets\"].mean(), infected[\"packets\"].mean()], 'packets')\n",
    "make_bar_graphs(['Normal Hosts', 'Infected Host'], [normal[\"bytes\"].mean(), infected[\"bytes\"].mean()], 'bytes')\n",
    "print('plots created')"
   ]
  },
  {
   "cell_type": "markdown",
   "metadata": {},
   "source": [
    "## Select the wanted features and apply clustering in case they are numerical"
   ]
  },
  {
   "cell_type": "code",
   "execution_count": 12,
   "metadata": {},
   "outputs": [
    {
     "name": "stdout",
     "output_type": "stream",
     "text": [
      "Type two feature names for discretization separated by space\n",
      " (possible choices: duration, protocol, flags, tos, packets, bytes, flows): protocol bytes\n",
      "----------------------- Finding optimal number of bins for bytes -----------------------\n"
     ]
    },
    {
     "data": {
      "image/png": "[encoded data removed]",
      "text/plain": [
       "<Figure size 432x288 with 1 Axes>"
      ]
     },
     "metadata": {
      "needs_background": "light"
     },
     "output_type": "display_data"
    },
    {
     "name": "stdout",
     "output_type": "stream",
     "text": [
      "Enter your preferred number of clusters: 4\n"
     ]
    }
   ],
   "source": [
    "# and select 2 of them\n",
    "selected_features = input('Type two feature names for discretization separated by space\\n '\n",
    "                          '(possible choices: duration, protocol, flags, tos, packets, bytes, flows): ').split()\n",
    "\n",
    "for sel in selected_features:\n",
    "    if sel in continuous_features:\n",
    "        # apply the elbow method\n",
    "        print('----------------------- Finding optimal number of bins for {} -----------------------'.format(sel))\n",
    "        Sum_of_squared_distances = []\n",
    "        for k in range(1, 11):\n",
    "            km = KMeans(n_clusters=k)\n",
    "            km = km.fit(data[sel].values.reshape(-1, 1))\n",
    "            Sum_of_squared_distances.append(km.inertia_)\n",
    "\n",
    "        plt.figure()\n",
    "        plt.plot(range(1, 11), Sum_of_squared_distances, 'bx-')\n",
    "        plt.xlabel('k')\n",
    "        plt.ylabel('Sum_of_squared_distances')\n",
    "        plt.title('Elbow Method For Optimal k')\n",
    "        plt.grid()\n",
    "        plt.show()\n",
    "#         plt.savefig('plots/elbow_discretization_%s.png' % sel, bbox_inches='tight')\n",
    "\n",
    "        percentile_num = int(input('Enter your preferred number of clusters: '))\n",
    "\n",
    "        # assign the cluster id to each value of the selected numerical feature in the way that it is described in\n",
    "        # in Pellegrino, Gaetano, et al. \"Learning Behavioral Fingerprints From Netflows Using Timed Automata.\"\n",
    "        percentile_values = list(map(lambda p: np.percentile(data[sel], p), 100*np.arange(0, 1, 1 / percentile_num)[1:]))\n",
    "        data[sel+'_num'] = data[sel].apply(find_percentile, args=(percentile_values,))"
   ]
  },
  {
   "cell_type": "markdown",
   "metadata": {},
   "source": [
    "## Discretize the flows "
   ]
  },
  {
   "cell_type": "code",
   "execution_count": 13,
   "metadata": {},
   "outputs": [
    {
     "name": "stdout",
     "output_type": "stream",
     "text": [
      "Discretizing all hosts...\n",
      "Discretization completed\n"
     ]
    }
   ],
   "source": [
    "# discretize all flows\n",
    "print('Discretizing all hosts...')\n",
    "mappings = {}\n",
    "for sel_feat in selected_features:\n",
    "    mappings[sel_feat] = len(data[sel_feat + '_num'].unique())\n",
    "data['encoded'] = data.apply(lambda x: netflow_encoding(x, mappings), axis=1)\n",
    "data.to_pickle('discretized_data/all_discretized_%s.pkl' % '_'.join(selected_features))\n",
    "print('Discretization completed')"
   ]
  }
 ],
 "metadata": {
  "kernelspec": {
   "display_name": "Python 3",
   "language": "python",
   "name": "python3"
  },
  "language_info": {
   "codemirror_mode": {
    "name": "ipython",
    "version": 3
   },
   "file_extension": ".py",
   "mimetype": "text/x-python",
   "name": "python",
   "nbconvert_exporter": "python",
   "pygments_lexer": "ipython3",
   "version": "3.7.3"
  }
 },
 "nbformat": 4,
 "nbformat_minor": 1
}
