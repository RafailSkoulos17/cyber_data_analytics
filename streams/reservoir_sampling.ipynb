{
 "cells": [
  {
   "cell_type": "markdown",
   "metadata": {},
   "source": [
    "# Rerervoir sampling task"
   ]
  },
  {
   "cell_type": "code",
   "execution_count": 1,
   "metadata": {},
   "outputs": [],
   "source": [
    "import operator\n",
    "import random\n",
    "from utils import read_data\n",
    "import pandas as pd\n",
    "import time\n",
    "import math"
   ]
  },
  {
   "cell_type": "markdown",
   "metadata": {},
   "source": [
    "## Read the dataset and keep only the flows that contain the infected host"
   ]
  },
  {
   "cell_type": "code",
   "execution_count": 2,
   "metadata": {},
   "outputs": [
    {
     "name": "stdout",
     "output_type": "stream",
     "text": [
      "Flows with infected host: 21760\n"
     ]
    }
   ],
   "source": [
    "#initialize random seed to get always the same results\n",
    "random.seed(0)\n",
    "infected_host = '147.32.84.165'\n",
    "\n",
    "#uncomment to read the data\n",
    "data = read_data('datasets/CTU-Malware-Capture-Botnet-54')\n",
    "# data.to_pickle('./data.pkl')\n",
    "\n",
    "# load the dataset\n",
    "# data = pd.read_pickle('./data.pkl')\n",
    "infected_dataset = data.loc[(data['src_ip'] == infected_host) | (data['dst_ip'] == infected_host)]\n",
    "print('Flows with infected host: {}'.format(infected_dataset.shape[0]))"
   ]
  },
  {
   "cell_type": "markdown",
   "metadata": {},
   "source": [
    "## Helper functions"
   ]
  },
  {
   "cell_type": "markdown",
   "metadata": {},
   "source": [
    "### Finds the frequency and the number of flows for each IP in the infected dataset"
   ]
  },
  {
   "cell_type": "code",
   "execution_count": 3,
   "metadata": {},
   "outputs": [],
   "source": [
    "def compute_most_frequent(infected_dataset):\n",
    "    connections = {}\n",
    "    # compute the number of flows for each ip\n",
    "    for index, row in infected_dataset.iterrows():\n",
    "        src = row['src_ip']\n",
    "        dst = row['dst_ip']\n",
    "        if src == infected_host:\n",
    "            if dst in connections:\n",
    "                connections[dst] += 1\n",
    "            else:\n",
    "                connections[dst] = 1\n",
    "        elif dst == infected_host:\n",
    "            if src in connections:\n",
    "                connections[src] += 1\n",
    "            else:\n",
    "                connections[src] = 1\n",
    "    # sor the results\n",
    "    sorted_connections = sorted(connections.items(), key=operator.itemgetter(1), reverse=True)\n",
    "    total_connections = len(infected_dataset)\n",
    "    \n",
    "    # create a dataframe with the frequency ans the number of connections for each ip\n",
    "    connection_df = pd.DataFrame(sorted_connections, columns=['IP', 'num_of_connections'])\n",
    "    connection_df['frequency'] = round(100 * connection_df['num_of_connections'] / total_connections, 2)\n",
    "    return connection_df"
   ]
  },
  {
   "cell_type": "markdown",
   "metadata": {},
   "source": [
    "### Performs tha Reservoir Sampling"
   ]
  },
  {
   "cell_type": "code",
   "execution_count": 4,
   "metadata": {},
   "outputs": [],
   "source": [
    "def reservoir_sampling(infected_dataset, k):\n",
    "    result = []\n",
    "    for i, (index, row) in enumerate(infected_dataset.iterrows()):\n",
    "        i += 1\n",
    "        if len(result) < k:\n",
    "            result.append(index)\n",
    "        else:\n",
    "            s = random.randint(1, i)\n",
    "            if s < k:\n",
    "                result[s] = index\n",
    "    return data.iloc[result]\n"
   ]
  },
  {
   "cell_type": "markdown",
   "metadata": {},
   "source": [
    "### Finds the difference in the frequence for the top 10 IPs , between the true sequence and the one obtained from Reservoir sampling"
   ]
  },
  {
   "cell_type": "code",
   "execution_count": 5,
   "metadata": {},
   "outputs": [],
   "source": [
    "def compute_mse(normal_top, sampled):\n",
    "    sampled = sampled[:10]\n",
    "    diff = []\n",
    "    for index, row in normal_top.iterrows():\n",
    "        if row['IP'] in sampled['IP'].values:\n",
    "            normal_freq = row['frequency']\n",
    "            sampled_freq = sampled.loc[sampled['IP'] == row['IP']].iloc[0]['frequency']\n",
    "            diff += [abs(normal_freq - sampled_freq)**2]\n",
    "        else:\n",
    "            diff += [row['frequency']**2]\n",
    "    mse = math.sqrt(sum(diff))\n",
    "    return mse"
   ]
  },
  {
   "cell_type": "markdown",
   "metadata": {},
   "source": [
    "## Find the 10 most frequent IPs of the stream"
   ]
  },
  {
   "cell_type": "code",
   "execution_count": 6,
   "metadata": {},
   "outputs": [
    {
     "name": "stdout",
     "output_type": "stream",
     "text": [
      "                IP  num_of_connections  frequency\n",
      "0      147.32.80.9                9774      44.92\n",
      "1   184.173.217.40                2287      10.51\n",
      "2  212.117.171.138                1725       7.93\n",
      "3     65.55.37.104                 391       1.80\n",
      "4    65.54.188.110                 198       0.91\n",
      "5    94.63.149.150                 157       0.72\n",
      "6     74.125.39.27                 143       0.66\n",
      "7    205.188.103.1                 127       0.58\n",
      "8     65.55.92.152                 120       0.55\n",
      "9     74.125.93.27                 115       0.53\n"
     ]
    }
   ],
   "source": [
    "normal_top = compute_most_frequent(infected_dataset)[:10]\n",
    "print(normal_top)\n",
    "normar_top_ips = normal_top['IP'].tolist()"
   ]
  },
  {
   "cell_type": "markdown",
   "metadata": {},
   "source": [
    "## Find the 10 most frequent IPs of the stream by performing Reservoir Sampling for several reservoir values"
   ]
  },
  {
   "cell_type": "code",
   "execution_count": 7,
   "metadata": {},
   "outputs": [
    {
     "name": "stdout",
     "output_type": "stream",
     "text": [
      "---------- k = 100 ----------\n",
      "\n",
      "                IP  num_of_connections  frequency\n",
      "0      147.32.80.9                  44       44.0\n",
      "1  212.117.171.138                  10       10.0\n",
      "2   184.173.217.40                   9        9.0\n",
      "3    66.94.238.147                   3        3.0\n",
      "4    65.54.165.139                   2        2.0\n",
      "5    209.86.93.227                   2        2.0\n",
      "6    216.104.161.5                   2        2.0\n",
      "7    64.12.175.136                   1        1.0\n",
      "8    65.54.188.110                   1        1.0\n",
      "9      195.3.96.71                   1        1.0\n",
      "\n",
      "Different IPs: 6\n",
      "Frequency difference: 3.540\n",
      "Execution time:  2.5542798042297363 \n",
      "\n",
      "---------- k = 500 ----------\n",
      "\n",
      "                IP  num_of_connections  frequency\n",
      "0      147.32.80.9                 209       41.8\n",
      "1   184.173.217.40                  57       11.4\n",
      "2  212.117.171.138                  38        7.6\n",
      "3     65.55.37.104                  13        2.6\n",
      "4    65.54.188.110                   8        1.6\n",
      "5  205.188.186.137                   6        1.2\n",
      "6     64.12.168.40                   5        1.0\n",
      "7   98.139.175.225                   5        1.0\n",
      "8     65.55.92.152                   5        1.0\n",
      "9     74.125.39.27                   4        0.8\n",
      "\n",
      "Different IPs: 3\n",
      "Frequency difference: 3.621\n",
      "Execution time:  2.740964889526367 \n",
      "\n",
      "---------- k = 1000 ----------\n",
      "\n",
      "                IP  num_of_connections  frequency\n",
      "0      147.32.80.9                 459       45.9\n",
      "1   184.173.217.40                 102       10.2\n",
      "2  212.117.171.138                  89        8.9\n",
      "3     65.55.37.104                  16        1.6\n",
      "4     74.125.39.27                  11        1.1\n",
      "5      74.6.136.65                   9        0.9\n",
      "6     74.125.93.27                   8        0.8\n",
      "7    94.63.149.150                   8        0.8\n",
      "8     76.96.30.116                   8        0.8\n",
      "9    65.54.188.110                   7        0.7\n",
      "\n",
      "Different IPs: 2\n",
      "Frequency difference: 1.730\n",
      "Execution time:  2.517765998840332 \n",
      "\n",
      "---------- k = 5000 ----------\n",
      "\n",
      "                IP  num_of_connections  frequency\n",
      "0      147.32.80.9                2249      44.98\n",
      "1   184.173.217.40                 529      10.58\n",
      "2  212.117.171.138                 387       7.74\n",
      "3     65.55.37.104                  80       1.60\n",
      "4    65.54.188.110                  45       0.90\n",
      "5    205.188.103.1                  39       0.78\n",
      "6    94.63.149.150                  34       0.68\n",
      "7     74.125.93.27                  31       0.62\n",
      "8     74.125.39.27                  29       0.58\n",
      "9   205.188.59.193                  26       0.52\n",
      "\n",
      "Different IPs: 1\n",
      "Frequency difference: 0.666\n",
      "Execution time:  3.1837306022644043 \n",
      "\n",
      "---------- k = 10000 ----------\n",
      "\n",
      "                IP  num_of_connections  frequency\n",
      "0      147.32.80.9                4494      44.94\n",
      "1   184.173.217.40                1024      10.24\n",
      "2  212.117.171.138                 795       7.95\n",
      "3     65.55.37.104                 171       1.71\n",
      "4    65.54.188.110                 102       1.02\n",
      "5    94.63.149.150                  77       0.77\n",
      "6     74.125.39.27                  66       0.66\n",
      "7     65.55.92.152                  60       0.60\n",
      "8   205.188.59.193                  52       0.52\n",
      "9  205.188.146.193                  51       0.51\n",
      "\n",
      "Different IPs: 2\n",
      "Frequency difference: 0.846\n",
      "Execution time:  2.689661979675293 \n",
      "\n",
      "---------- k = 20000 ----------\n",
      "\n",
      "                IP  num_of_connections  frequency\n",
      "0      147.32.80.9                8970      44.85\n",
      "1   184.173.217.40                2110      10.55\n",
      "2  212.117.171.138                1584       7.92\n",
      "3     65.55.37.104                 351       1.76\n",
      "4    65.54.188.110                 178       0.89\n",
      "5    94.63.149.150                 146       0.73\n",
      "6     74.125.39.27                 130       0.65\n",
      "7    205.188.103.1                 118       0.59\n",
      "8     65.55.92.152                 111       0.56\n",
      "9     74.125.93.27                 104       0.52\n",
      "\n",
      "Different IPs: 0\n",
      "Frequency difference: 0.095\n",
      "Execution time:  3.9945762157440186 \n",
      "\n"
     ]
    }
   ],
   "source": [
    "k_values = [100, 500, 1000, 5000, 10000, 20000]\n",
    "for k in k_values:\n",
    "    start = time.time()\n",
    "    res = reservoir_sampling(infected_dataset, k)\n",
    "    reservoir_top = compute_most_frequent(r)[:10]\n",
    "    stop = time.time()\n",
    "    reservoir_top_ips = reservoir_top['IP'].tolist()\n",
    "    print('---------- k = {} ----------\\n'.format(k))\n",
    "    print(reservoir_top)\n",
    "    print('\\nDifferent IPs: {}'.format(len(set(normar_top_ips) - set(reservoir_top_ips))))\n",
    "    mse = compute_mse(normal_top, compute_most_frequent(res))\n",
    "    print(\"Frequency difference: %0.3f\" %mse)\n",
    "    print('Execution time: ',stop - start, '\\n')\n",
    "    "
   ]
  },
  {
   "cell_type": "code",
   "execution_count": null,
   "metadata": {},
   "outputs": [],
   "source": []
  }
 ],
 "metadata": {
  "kernelspec": {
   "display_name": "Python 3",
   "language": "python",
   "name": "python3"
  },
  "language_info": {
   "codemirror_mode": {
    "name": "ipython",
    "version": 3
   },
   "file_extension": ".py",
   "mimetype": "text/x-python",
   "name": "python",
   "nbconvert_exporter": "python",
   "pygments_lexer": "ipython3",
   "version": "3.7.3"
  }
 },
 "nbformat": 4,
 "nbformat_minor": 2
}
