{
 "cells": [
  {
   "cell_type": "markdown",
   "metadata": {},
   "source": [
    "# Rerervoir sampling task"
   ]
  },
  {
   "cell_type": "code",
   "execution_count": 2,
   "metadata": {},
   "outputs": [],
   "source": [
    "import operator\n",
    "import random\n",
    "from utils import read_data\n",
    "import pandas as pd\n",
    "import time"
   ]
  },
  {
   "cell_type": "markdown",
   "metadata": {},
   "source": [
    "## Read the dataset and keep only the flows that contain the infected host"
   ]
  },
  {
   "cell_type": "code",
   "execution_count": 3,
   "metadata": {},
   "outputs": [
    {
     "name": "stdout",
     "output_type": "stream",
     "text": [
      "Flows with infected host: 21760\n"
     ]
    }
   ],
   "source": [
    "infected_host = '147.32.84.165'\n",
    "\n",
    "#uncomment to read the data\n",
    "# data = read_data()\n",
    "# data.to_pickle('./data.pkl')\n",
    "\n",
    "# load the dataset\n",
    "data = pd.read_pickle('./data.pkl')\n",
    "infected_dataset = data.loc[(data['src'] == infected_host) | (data['dst'] == infected_host)]\n",
    "print('Flows with infected host: {}'.format(infected_dataset.shape[0]))"
   ]
  },
  {
   "cell_type": "markdown",
   "metadata": {},
   "source": [
    "## Helper functions"
   ]
  },
  {
   "cell_type": "markdown",
   "metadata": {},
   "source": [
    "### Finds the frequency and the number of flows for each IP in the infected dataset"
   ]
  },
  {
   "cell_type": "code",
   "execution_count": 4,
   "metadata": {},
   "outputs": [],
   "source": [
    "def compute_most_frequent(infected_dataset):\n",
    "    connections = {}\n",
    "    # compute the number of flows for each ip\n",
    "    for index, row in infected_dataset.iterrows():\n",
    "        src = row['src']\n",
    "        dst = row['dst']\n",
    "        if src == infected_host:\n",
    "            if dst in connections:\n",
    "                connections[dst] += 1\n",
    "            else:\n",
    "                connections[dst] = 1\n",
    "        elif dst == infected_host:\n",
    "            if src in connections:\n",
    "                connections[src] += 1\n",
    "            else:\n",
    "                connections[src] = 1\n",
    "    # sor the results\n",
    "    sorted_connections = sorted(connections.items(), key=operator.itemgetter(1), reverse=True)\n",
    "    total_connections = len(infected_dataset)\n",
    "    \n",
    "    # create a dataframe with the frequency ans the number of connections for each ip\n",
    "    connection_df = pd.DataFrame(sorted_connections, columns=['IP', 'num_of_connections'])\n",
    "    connection_df['percentage'] = round(100 * connection_df['num_of_connections'] / total_connections, 2)\n",
    "    return connection_df"
   ]
  },
  {
   "cell_type": "markdown",
   "metadata": {},
   "source": [
    "### Performs tha Reservoir Sampling"
   ]
  },
  {
   "cell_type": "code",
   "execution_count": 5,
   "metadata": {},
   "outputs": [],
   "source": [
    "def reservoir_sampling(infected_dataset, k):\n",
    "    result = []\n",
    "    for i, (index, row) in enumerate(infected_dataset.iterrows()):\n",
    "        i += 1\n",
    "        if len(result) < k:\n",
    "            result.append(index)\n",
    "        else:\n",
    "            s = random.randint(1, i)\n",
    "            if s < k:\n",
    "                result[s] = index\n",
    "    return data.iloc[result]\n"
   ]
  },
  {
   "cell_type": "markdown",
   "metadata": {},
   "source": [
    "### Finds the difference in the frequence for the top 10 IPs , between the true sequence and the one obtained from Reservoir sampling"
   ]
  },
  {
   "cell_type": "code",
   "execution_count": 6,
   "metadata": {},
   "outputs": [],
   "source": [
    "def find_differences(normal_top, sampled):\n",
    "    diff = 0\n",
    "    for index, row in normal_top.iterrows():\n",
    "        if row['IP'] in sampled['IP'].values:\n",
    "            normal_freq = row['percentage']\n",
    "            sampled_freq = sampled.loc[sampled['IP'] == row['IP']].iloc[0]['percentage']\n",
    "            diff += abs(normal_freq - sampled_freq)\n",
    "        else:\n",
    "            diff += row['percentage']\n",
    "    return diff"
   ]
  },
  {
   "cell_type": "markdown",
   "metadata": {},
   "source": [
    "## Find the 10 most frequent IPs of the stream"
   ]
  },
  {
   "cell_type": "code",
   "execution_count": 7,
   "metadata": {},
   "outputs": [
    {
     "name": "stdout",
     "output_type": "stream",
     "text": [
      "                IP  num_of_connections  percentage\n",
      "0      147.32.80.9                9774       44.92\n",
      "1   184.173.217.40                2287       10.51\n",
      "2  212.117.171.138                1725        7.93\n",
      "3     65.55.37.104                 391        1.80\n",
      "4    65.54.188.110                 198        0.91\n",
      "5    94.63.149.150                 157        0.72\n",
      "6     74.125.39.27                 143        0.66\n",
      "7    205.188.103.1                 127        0.58\n",
      "8     65.55.92.152                 120        0.55\n",
      "9     74.125.93.27                 115        0.53\n"
     ]
    }
   ],
   "source": [
    "normal_top = compute_most_frequent(infected_dataset)[:10]\n",
    "print(normal_top)\n",
    "normar_top_ips = normal_top['IP'].tolist()"
   ]
  },
  {
   "cell_type": "markdown",
   "metadata": {},
   "source": [
    "## Find the 10 most frequent IPs of the stream by performing Reservoir Sampling for several reservoir values"
   ]
  },
  {
   "cell_type": "code",
   "execution_count": 17,
   "metadata": {},
   "outputs": [
    {
     "name": "stdout",
     "output_type": "stream",
     "text": [
      "---------- k = 100 ----------\n",
      "\n",
      "                IP  num_of_connections  percentage\n",
      "0      147.32.80.9                  39        39.0\n",
      "1   184.173.217.40                  15        15.0\n",
      "2  212.117.171.138                   5         5.0\n",
      "3    65.54.188.110                   3         3.0\n",
      "4    64.12.175.136                   2         2.0\n",
      "5     194.25.134.9                   2         2.0\n",
      "6    98.137.54.237                   2         2.0\n",
      "7     65.55.92.152                   2         2.0\n",
      "8   209.191.88.254                   2         2.0\n",
      "9     65.55.37.104                   2         2.0\n",
      "\n",
      "\n",
      "Different IPs: 4\n",
      "Frequency difference: 19.570\n",
      "---------- k = 200 ----------\n",
      "\n",
      "                IP  num_of_connections  percentage\n",
      "0      147.32.80.9                  82        41.0\n",
      "1  212.117.171.138                  18         9.0\n",
      "2   184.173.217.40                  18         9.0\n",
      "3     65.55.37.104                   6         3.0\n",
      "4    65.54.188.110                   4         2.0\n",
      "5     74.125.93.27                   4         2.0\n",
      "6     74.125.39.27                   4         2.0\n",
      "7     65.55.37.120                   3         1.5\n",
      "8   98.139.175.224                   3         1.5\n",
      "9    94.63.149.150                   2         1.0\n",
      "\n",
      "\n",
      "Different IPs: 2\n",
      "Frequency difference: 12.510\n",
      "---------- k = 500 ----------\n",
      "\n",
      "                IP  num_of_connections  percentage\n",
      "0      147.32.80.9                 227        45.4\n",
      "1  212.117.171.138                  41         8.2\n",
      "2   184.173.217.40                  35         7.0\n",
      "3     65.55.37.104                  10         2.0\n",
      "4    65.54.188.110                   7         1.4\n",
      "5    94.63.149.150                   6         1.2\n",
      "6    67.195.168.31                   5         1.0\n",
      "7     65.55.92.152                   5         1.0\n",
      "8  205.188.146.193                   5         1.0\n",
      "9       64.4.56.23                   4         0.8\n",
      "\n",
      "\n",
      "Different IPs: 3\n",
      "Frequency difference: 6.990\n",
      "---------- k = 1000 ----------\n",
      "\n",
      "                IP  num_of_connections  percentage\n",
      "0      147.32.80.9                 443        44.3\n",
      "1   184.173.217.40                 109        10.9\n",
      "2  212.117.171.138                  77         7.7\n",
      "3     65.55.37.104                  15         1.5\n",
      "4    65.54.188.110                  11         1.1\n",
      "5   67.195.168.230                  11         1.1\n",
      "6    94.63.149.150                   8         0.8\n",
      "7     74.125.93.27                   8         0.8\n",
      "8     74.125.39.27                   7         0.7\n",
      "9    98.137.54.238                   6         0.6\n",
      "\n",
      "\n",
      "Different IPs: 2\n",
      "Frequency difference: 2.250\n",
      "---------- k = 2000 ----------\n",
      "\n",
      "                IP  num_of_connections  percentage\n",
      "0      147.32.80.9                 903       45.15\n",
      "1   184.173.217.40                 204       10.20\n",
      "2  212.117.171.138                 148        7.40\n",
      "3     65.55.37.104                  31        1.55\n",
      "4    65.54.188.110                  20        1.00\n",
      "5    94.63.149.150                  19        0.95\n",
      "6  205.188.186.167                  13        0.65\n",
      "7     76.96.30.116                  11        0.55\n",
      "8  205.188.186.137                  10        0.50\n",
      "9     65.55.37.120                   9        0.45\n",
      "\n",
      "\n",
      "Different IPs: 4\n",
      "Frequency difference: 2.460\n",
      "---------- k = 5000 ----------\n",
      "\n",
      "                IP  num_of_connections  percentage\n",
      "0      147.32.80.9                2260       45.20\n",
      "1   184.173.217.40                 539       10.78\n",
      "2  212.117.171.138                 390        7.80\n",
      "3     65.55.37.104                  82        1.64\n",
      "4    94.63.149.150                  41        0.82\n",
      "5     74.125.39.27                  41        0.82\n",
      "6    65.54.188.110                  38        0.76\n",
      "7     74.125.93.27                  29        0.58\n",
      "8    205.188.103.1                  28        0.56\n",
      "9     65.55.92.152                  27        0.54\n",
      "\n",
      "\n",
      "Different IPs: 0\n",
      "Frequency difference: 1.330\n",
      "---------- k = 10000 ----------\n",
      "\n",
      "                IP  num_of_connections  percentage\n",
      "0      147.32.80.9                4549       45.49\n",
      "1   184.173.217.40                1054       10.54\n",
      "2  212.117.171.138                 797        7.97\n",
      "3     65.55.37.104                 160        1.60\n",
      "4    65.54.188.110                  85        0.85\n",
      "5     65.55.92.152                  71        0.71\n",
      "6    94.63.149.150                  68        0.68\n",
      "7     74.125.39.27                  64        0.64\n",
      "8     74.125.93.27                  58        0.58\n",
      "9  205.188.186.137                  56        0.56\n",
      "\n",
      "\n",
      "Different IPs: 1\n",
      "Frequency difference: 1.200\n"
     ]
    }
   ],
   "source": [
    "k_values = [100, 200, 500, 1000, 2000, 5000, 10000]\n",
    "for k in k_values:\n",
    "    res = reservoir_sampling(infected_dataset, k)\n",
    "    reservoir_top = compute_most_frequent(res)[:10]\n",
    "    reservoir_top_ips = reservoir_top['IP'].tolist()\n",
    "    print('---------- k = {} ----------\\n'.format(k))\n",
    "    print(reservoir_top)\n",
    "    print('\\n')\n",
    "    print('Different IPs: {}'.format(len(set(normar_top_ips) - set(reservoir_top_ips))))\n",
    "    diff = find_differences(normal_top, compute_most_frequent(res))\n",
    "    print(\"Frequency difference: %0.3f\" %diff)\n",
    "    "
   ]
  },
  {
   "cell_type": "markdown",
   "metadata": {},
   "source": [
    "## Run reservoir sampling for reservoir size k=100 and measure execution time"
   ]
  },
  {
   "cell_type": "code",
   "execution_count": 18,
   "metadata": {},
   "outputs": [
    {
     "name": "stdout",
     "output_type": "stream",
     "text": [
      "---------- k = 100 ----------\n",
      "\n",
      "                IP  num_of_connections  percentage\n",
      "0      147.32.80.9                  49        49.0\n",
      "1   184.173.217.40                  11        11.0\n",
      "2  212.117.171.138                   9         9.0\n",
      "3     74.125.39.27                   2         2.0\n",
      "4   205.188.59.193                   2         2.0\n",
      "5     76.96.30.116                   2         2.0\n",
      "6    94.63.149.150                   2         2.0\n",
      "7    64.12.175.136                   1         1.0\n",
      "8        68.1.17.9                   1         1.0\n",
      "9       64.18.5.11                   1         1.0\n",
      "\n",
      "\n",
      "Different IPs: 5\n",
      "Frequency difference: 12.630\n",
      "Execution time:  1.5446557998657227\n"
     ]
    }
   ],
   "source": [
    "start = time.time()\n",
    "k = 100\n",
    "res = reservoir_sampling(infected_dataset, k)\n",
    "reservoir_top = compute_most_frequent(res)[:10]\n",
    "reservoir_top_ips = reservoir_top['IP'].tolist()\n",
    "print('---------- k = {} ----------\\n'.format(k))\n",
    "print(reservoir_top)\n",
    "print('\\n')\n",
    "print('Different IPs: {}'.format(len(set(normar_top_ips) - set(reservoir_top_ips))))\n",
    "diff = find_differences(normal_top, compute_most_frequent(res))\n",
    "print(\"Frequency difference: %0.3f\" %diff)\n",
    "# stop time recording\n",
    "stop = time.time()\n",
    "print('Execution time: ',stop - start)\n",
    "# run_times[it][i] = stop - start"
   ]
  },
  {
   "cell_type": "code",
   "execution_count": null,
   "metadata": {},
   "outputs": [],
   "source": []
  }
 ],
 "metadata": {
  "kernelspec": {
   "display_name": "Python 3",
   "language": "python",
   "name": "python3"
  },
  "language_info": {
   "codemirror_mode": {
    "name": "ipython",
    "version": 3
   },
   "file_extension": ".py",
   "mimetype": "text/x-python",
   "name": "python",
   "nbconvert_exporter": "python",
   "pygments_lexer": "ipython3",
   "version": "3.7.3"
  }
 },
 "nbformat": 4,
 "nbformat_minor": 2
}
