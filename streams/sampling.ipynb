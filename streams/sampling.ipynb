{
 "cells": [
  {
   "cell_type": "markdown",
   "metadata": {},
   "source": [
    "# Rerervoir sampling task"
   ]
  },
  {
   "cell_type": "code",
   "execution_count": 1,
   "metadata": {},
   "outputs": [],
   "source": [
    "import operator\n",
    "import random\n",
    "from utils import read_data\n",
    "import pandas as pd\n",
    "import time"
   ]
  },
  {
   "cell_type": "markdown",
   "metadata": {},
   "source": [
    "## Read the dataset and keep only the flows that contain the infected host"
   ]
  },
  {
   "cell_type": "code",
   "execution_count": 2,
   "metadata": {},
   "outputs": [
    {
     "name": "stdout",
     "output_type": "stream",
     "text": [
      "Flows with infected host: 21760\n"
     ]
    }
   ],
   "source": [
    "infected_host = '147.32.84.165'\n",
    "\n",
    "#uncomment to read the data\n",
    "data = read_data('datasets/CTU-Malware-Capture-Botnet-54')\n",
    "# data.to_pickle('./data.pkl')\n",
    "\n",
    "# load the dataset\n",
    "# data = pd.read_pickle('./data.pkl')\n",
    "infected_dataset = data.loc[(data['src_ip'] == infected_host) | (data['dst_ip'] == infected_host)]\n",
    "print('Flows with infected host: {}'.format(infected_dataset.shape[0]))"
   ]
  },
  {
   "cell_type": "markdown",
   "metadata": {},
   "source": [
    "## Helper functions"
   ]
  },
  {
   "cell_type": "markdown",
   "metadata": {},
   "source": [
    "### Finds the frequency and the number of flows for each IP in the infected dataset"
   ]
  },
  {
   "cell_type": "code",
   "execution_count": 3,
   "metadata": {},
   "outputs": [],
   "source": [
    "def compute_most_frequent(infected_dataset):\n",
    "    connections = {}\n",
    "    # compute the number of flows for each ip\n",
    "    for index, row in infected_dataset.iterrows():\n",
    "        src = row['src_ip']\n",
    "        dst = row['dst_ip']\n",
    "        if src == infected_host:\n",
    "            if dst in connections:\n",
    "                connections[dst] += 1\n",
    "            else:\n",
    "                connections[dst] = 1\n",
    "        elif dst == infected_host:\n",
    "            if src in connections:\n",
    "                connections[src] += 1\n",
    "            else:\n",
    "                connections[src] = 1\n",
    "    # sor the results\n",
    "    sorted_connections = sorted(connections.items(), key=operator.itemgetter(1), reverse=True)\n",
    "    total_connections = len(infected_dataset)\n",
    "    \n",
    "    # create a dataframe with the frequency ans the number of connections for each ip\n",
    "    connection_df = pd.DataFrame(sorted_connections, columns=['IP', 'num_of_connections'])\n",
    "    connection_df['frequency'] = round(100 * connection_df['num_of_connections'] / total_connections, 2)\n",
    "    return connection_df"
   ]
  },
  {
   "cell_type": "markdown",
   "metadata": {},
   "source": [
    "### Performs tha Reservoir Sampling"
   ]
  },
  {
   "cell_type": "code",
   "execution_count": 4,
   "metadata": {},
   "outputs": [],
   "source": [
    "def reservoir_sampling(infected_dataset, k):\n",
    "    result = []\n",
    "    for i, (index, row) in enumerate(infected_dataset.iterrows()):\n",
    "        i += 1\n",
    "        if len(result) < k:\n",
    "            result.append(index)\n",
    "        else:\n",
    "            s = random.randint(1, i)\n",
    "            if s < k:\n",
    "                result[s] = index\n",
    "    return data.iloc[result]\n"
   ]
  },
  {
   "cell_type": "markdown",
   "metadata": {},
   "source": [
    "### Finds the difference in the frequence for the top 10 IPs , between the true sequence and the one obtained from Reservoir sampling"
   ]
  },
  {
   "cell_type": "code",
   "execution_count": 5,
   "metadata": {},
   "outputs": [],
   "source": [
    "def find_differences(normal_top, sampled):\n",
    "    diff = 0\n",
    "    for index, row in normal_top.iterrows():\n",
    "        if row['IP'] in sampled['IP'].values:\n",
    "            normal_freq = row['frequency']\n",
    "            sampled_freq = sampled.loc[sampled['IP'] == row['IP']].iloc[0]['frequency']\n",
    "            diff += abs(normal_freq - sampled_freq)\n",
    "        else:\n",
    "            diff += row['frequency']\n",
    "    return diff"
   ]
  },
  {
   "cell_type": "markdown",
   "metadata": {},
   "source": [
    "## Find the 10 most frequent IPs of the stream"
   ]
  },
  {
   "cell_type": "code",
   "execution_count": 6,
   "metadata": {},
   "outputs": [
    {
     "name": "stdout",
     "output_type": "stream",
     "text": [
      "                IP  num_of_connections  frequency\n",
      "0      147.32.80.9                9774      44.92\n",
      "1   184.173.217.40                2287      10.51\n",
      "2  212.117.171.138                1725       7.93\n",
      "3     65.55.37.104                 391       1.80\n",
      "4    65.54.188.110                 198       0.91\n",
      "5    94.63.149.150                 157       0.72\n",
      "6     74.125.39.27                 143       0.66\n",
      "7    205.188.103.1                 127       0.58\n",
      "8     65.55.92.152                 120       0.55\n",
      "9     74.125.93.27                 115       0.53\n"
     ]
    }
   ],
   "source": [
    "normal_top = compute_most_frequent(infected_dataset)[:10]\n",
    "print(normal_top)\n",
    "normar_top_ips = normal_top['IP'].tolist()"
   ]
  },
  {
   "cell_type": "markdown",
   "metadata": {},
   "source": [
    "## Find the 10 most frequent IPs of the stream by performing Reservoir Sampling for several reservoir values"
   ]
  },
  {
   "cell_type": "code",
   "execution_count": 7,
   "metadata": {},
   "outputs": [
    {
     "name": "stdout",
     "output_type": "stream",
     "text": [
      "---------- k = 100 ----------\n",
      "\n",
      "                IP  num_of_connections  frequency\n",
      "0      147.32.80.9                  51       51.0\n",
      "1   184.173.217.40                   9        9.0\n",
      "2  212.117.171.138                   5        5.0\n",
      "3   98.139.175.224                   3        3.0\n",
      "4    209.85.225.27                   2        2.0\n",
      "5     74.125.39.27                   2        2.0\n",
      "6    64.12.175.136                   1        1.0\n",
      "7     65.54.234.78                   1        1.0\n",
      "8     98.139.54.60                   1        1.0\n",
      "9   209.191.88.254                   1        1.0\n",
      "\n",
      "Different IPs: 6\n",
      "Frequency difference: 16.630\n",
      "---------- k = 200 ----------\n",
      "\n",
      "                IP  num_of_connections  frequency\n",
      "0      147.32.80.9                  84       42.0\n",
      "1   184.173.217.40                  25       12.5\n",
      "2  212.117.171.138                  13        6.5\n",
      "3     65.55.37.104                  10        5.0\n",
      "4     74.125.93.27                   4        2.0\n",
      "5  205.188.186.137                   3        1.5\n",
      "6    64.12.175.136                   2        1.0\n",
      "7   67.195.168.230                   2        1.0\n",
      "8    65.55.196.251                   2        1.0\n",
      "9    67.195.168.31                   2        1.0\n",
      "\n",
      "Different IPs: 5\n",
      "Frequency difference: 13.330\n",
      "---------- k = 500 ----------\n",
      "\n",
      "                IP  num_of_connections  frequency\n",
      "0      147.32.80.9                 227       45.4\n",
      "1  212.117.171.138                  46        9.2\n",
      "2   184.173.217.40                  43        8.6\n",
      "3     65.55.37.104                   7        1.4\n",
      "4    65.54.188.110                   6        1.2\n",
      "5   67.195.168.230                   6        1.2\n",
      "6    98.137.54.238                   5        1.0\n",
      "7  205.188.146.193                   4        0.8\n",
      "8     74.125.39.27                   4        0.8\n",
      "9     98.139.54.60                   4        0.8\n",
      "\n",
      "Different IPs: 4\n",
      "Frequency difference: 5.610\n",
      "---------- k = 1000 ----------\n",
      "\n",
      "                IP  num_of_connections  frequency\n",
      "0      147.32.80.9                 457       45.7\n",
      "1  212.117.171.138                  98        9.8\n",
      "2   184.173.217.40                  91        9.1\n",
      "3     65.55.37.104                  29        2.9\n",
      "4     65.55.92.152                  12        1.2\n",
      "5    94.63.149.150                  11        1.1\n",
      "6   98.139.175.224                   7        0.7\n",
      "7     74.125.93.27                   7        0.7\n",
      "8      64.12.90.34                   7        0.7\n",
      "9     76.96.62.116                   7        0.7\n",
      "\n",
      "Different IPs: 3\n",
      "Frequency difference: 7.410\n",
      "---------- k = 2000 ----------\n",
      "\n",
      "                IP  num_of_connections  frequency\n",
      "0      147.32.80.9                 902      45.10\n",
      "1   184.173.217.40                 191       9.55\n",
      "2  212.117.171.138                 155       7.75\n",
      "3     65.55.37.104                  37       1.85\n",
      "4    65.54.188.110                  27       1.35\n",
      "5     65.55.92.152                  15       0.75\n",
      "6     74.125.39.27                  15       0.75\n",
      "7      64.12.90.34                  12       0.60\n",
      "8   205.188.59.193                  11       0.55\n",
      "9  205.188.146.193                  11       0.55\n",
      "\n",
      "Different IPs: 3\n",
      "Frequency difference: 2.580\n",
      "---------- k = 5000 ----------\n",
      "\n",
      "                IP  num_of_connections  frequency\n",
      "0      147.32.80.9                2224      44.48\n",
      "1   184.173.217.40                 503      10.06\n",
      "2  212.117.171.138                 392       7.84\n",
      "3     65.55.37.104                 106       2.12\n",
      "4    65.54.188.110                  49       0.98\n",
      "5    94.63.149.150                  42       0.84\n",
      "6     74.125.39.27                  36       0.72\n",
      "7     74.125.93.27                  32       0.64\n",
      "8  205.188.186.137                  30       0.60\n",
      "9     65.55.92.152                  30       0.60\n",
      "\n",
      "Different IPs: 1\n",
      "Frequency difference: 1.730\n",
      "---------- k = 10000 ----------\n",
      "\n",
      "                IP  num_of_connections  frequency\n",
      "0      147.32.80.9                4501      45.01\n",
      "1   184.173.217.40                1074      10.74\n",
      "2  212.117.171.138                 792       7.92\n",
      "3     65.55.37.104                 178       1.78\n",
      "4    65.54.188.110                  98       0.98\n",
      "5    94.63.149.150                  72       0.72\n",
      "6     74.125.39.27                  72       0.72\n",
      "7     74.125.93.27                  61       0.61\n",
      "8    205.188.103.1                  60       0.60\n",
      "9  205.188.186.137                  54       0.54\n",
      "\n",
      "Different IPs: 1\n",
      "Frequency difference: 0.600\n"
     ]
    }
   ],
   "source": [
    "k_values = [100, 200, 500, 1000, 2000, 5000, 10000]\n",
    "for k in k_values:\n",
    "    res = reservoir_sampling(infected_dataset, k)\n",
    "    reservoir_top = compute_most_frequent(res)[:10]\n",
    "    reservoir_top_ips = reservoir_top['IP'].tolist()\n",
    "    print('---------- k = {} ----------\\n'.format(k))\n",
    "    print(reservoir_top)\n",
    "    print('\\nDifferent IPs: {}'.format(len(set(normar_top_ips) - set(reservoir_top_ips))))\n",
    "    diff = find_differences(normal_top, compute_most_frequent(res))\n",
    "    print(\"Frequency difference: %0.3f\" %diff)\n",
    "    "
   ]
  },
  {
   "cell_type": "markdown",
   "metadata": {},
   "source": [
    "## Run reservoir sampling for reservoir size k=100 and measure execution time"
   ]
  },
  {
   "cell_type": "code",
   "execution_count": 8,
   "metadata": {},
   "outputs": [
    {
     "name": "stdout",
     "output_type": "stream",
     "text": [
      "---------- k = 100 ----------\n",
      "\n",
      "                IP  num_of_connections  frequency\n",
      "0      147.32.80.9                  48       48.0\n",
      "1  212.117.171.138                   9        9.0\n",
      "2   184.173.217.40                   7        7.0\n",
      "3     65.55.37.104                   5        5.0\n",
      "4    98.137.54.238                   3        3.0\n",
      "5    94.63.149.150                   2        2.0\n",
      "6    205.188.103.1                   2        2.0\n",
      "7    64.12.175.136                   1        1.0\n",
      "8      64.12.90.33                   1        1.0\n",
      "9  209.236.119.101                   1        1.0\n",
      "\n",
      "\n",
      "Different IPs: 4\n",
      "Frequency difference: 16.210\n",
      "Execution time:  2.9505553245544434\n"
     ]
    }
   ],
   "source": [
    "start = time.time()\n",
    "k = 100\n",
    "res = reservoir_sampling(infected_dataset, k)\n",
    "reservoir_top = compute_most_frequent(res)[:10]\n",
    "reservoir_top_ips = reservoir_top['IP'].tolist()\n",
    "print('---------- k = {} ----------\\n'.format(k))\n",
    "print(reservoir_top)\n",
    "print('\\n')\n",
    "print('Different IPs: {}'.format(len(set(normar_top_ips) - set(reservoir_top_ips))))\n",
    "diff = find_differences(normal_top, compute_most_frequent(res))\n",
    "print(\"Frequency difference: %0.3f\" %diff)\n",
    "# stop time recording\n",
    "stop = time.time()\n",
    "print('Execution time: ',stop - start)\n",
    "# run_times[it][i] = stop - start"
   ]
  },
  {
   "cell_type": "code",
   "execution_count": null,
   "metadata": {},
   "outputs": [],
   "source": []
  }
 ],
 "metadata": {
  "kernelspec": {
   "display_name": "Python 3",
   "language": "python",
   "name": "python3"
  },
  "language_info": {
   "codemirror_mode": {
    "name": "ipython",
    "version": 3
   },
   "file_extension": ".py",
   "mimetype": "text/x-python",
   "name": "python",
   "nbconvert_exporter": "python",
   "pygments_lexer": "ipython3",
   "version": "3.7.3"
  }
 },
 "nbformat": 4,
 "nbformat_minor": 2
}
